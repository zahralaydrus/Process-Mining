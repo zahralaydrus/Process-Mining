{
  "nbformat": 4,
  "nbformat_minor": 0,
  "metadata": {
    "colab": {
      "name": "Tugas Besar No.5 Process Mining_Fathimah Azzahra Alaydrus_41819010078.ipynb",
      "provenance": []
    },
    "kernelspec": {
      "name": "python3",
      "display_name": "Python 3"
    },
    "language_info": {
      "name": "python"
    },
    "widgets": {
      "application/vnd.jupyter.widget-state+json": {
        "5006bae760ad489aa13552c9c2163e69": {
          "model_module": "@jupyter-widgets/controls",
          "model_name": "HBoxModel",
          "model_module_version": "1.5.0",
          "state": {
            "_view_name": "HBoxView",
            "_dom_classes": [],
            "_model_name": "HBoxModel",
            "_view_module": "@jupyter-widgets/controls",
            "_model_module_version": "1.5.0",
            "_view_count": null,
            "_view_module_version": "1.5.0",
            "box_style": "",
            "layout": "IPY_MODEL_c0c8912284294430aa8dff2d869ba508",
            "_model_module": "@jupyter-widgets/controls",
            "children": [
              "IPY_MODEL_1d2c53f7f0bf484e82e612ccf12aaebc",
              "IPY_MODEL_ac5b497325064954b09a1b18d0e59a96",
              "IPY_MODEL_0d6d1d9f51824ca2be8c4d7a1cb784c2"
            ]
          }
        },
        "c0c8912284294430aa8dff2d869ba508": {
          "model_module": "@jupyter-widgets/base",
          "model_name": "LayoutModel",
          "model_module_version": "1.2.0",
          "state": {
            "_view_name": "LayoutView",
            "grid_template_rows": null,
            "right": null,
            "justify_content": null,
            "_view_module": "@jupyter-widgets/base",
            "overflow": null,
            "_model_module_version": "1.2.0",
            "_view_count": null,
            "flex_flow": null,
            "width": null,
            "min_width": null,
            "border": null,
            "align_items": null,
            "bottom": null,
            "_model_module": "@jupyter-widgets/base",
            "top": null,
            "grid_column": null,
            "overflow_y": null,
            "overflow_x": null,
            "grid_auto_flow": null,
            "grid_area": null,
            "grid_template_columns": null,
            "flex": null,
            "_model_name": "LayoutModel",
            "justify_items": null,
            "grid_row": null,
            "max_height": null,
            "align_content": null,
            "visibility": null,
            "align_self": null,
            "height": null,
            "min_height": null,
            "padding": null,
            "grid_auto_rows": null,
            "grid_gap": null,
            "max_width": null,
            "order": null,
            "_view_module_version": "1.2.0",
            "grid_template_areas": null,
            "object_position": null,
            "object_fit": null,
            "grid_auto_columns": null,
            "margin": null,
            "display": null,
            "left": null
          }
        },
        "1d2c53f7f0bf484e82e612ccf12aaebc": {
          "model_module": "@jupyter-widgets/controls",
          "model_name": "HTMLModel",
          "model_module_version": "1.5.0",
          "state": {
            "_view_name": "HTMLView",
            "style": "IPY_MODEL_b5e891afd07245318a356992ae483c39",
            "_dom_classes": [],
            "description": "",
            "_model_name": "HTMLModel",
            "placeholder": "​",
            "_view_module": "@jupyter-widgets/controls",
            "_model_module_version": "1.5.0",
            "value": "replaying log with TBR, completed variants :: 100%",
            "_view_count": null,
            "_view_module_version": "1.5.0",
            "description_tooltip": null,
            "_model_module": "@jupyter-widgets/controls",
            "layout": "IPY_MODEL_3637cc85a2644ec98e8040cea0386ffd"
          }
        },
        "ac5b497325064954b09a1b18d0e59a96": {
          "model_module": "@jupyter-widgets/controls",
          "model_name": "FloatProgressModel",
          "model_module_version": "1.5.0",
          "state": {
            "_view_name": "ProgressView",
            "style": "IPY_MODEL_9538b3d842ef4f09898c2eb8d72383be",
            "_dom_classes": [],
            "description": "",
            "_model_name": "FloatProgressModel",
            "bar_style": "success",
            "max": 3,
            "_view_module": "@jupyter-widgets/controls",
            "_model_module_version": "1.5.0",
            "value": 3,
            "_view_count": null,
            "_view_module_version": "1.5.0",
            "orientation": "horizontal",
            "min": 0,
            "description_tooltip": null,
            "_model_module": "@jupyter-widgets/controls",
            "layout": "IPY_MODEL_d5fd0aea25764e4985676348e1534c85"
          }
        },
        "0d6d1d9f51824ca2be8c4d7a1cb784c2": {
          "model_module": "@jupyter-widgets/controls",
          "model_name": "HTMLModel",
          "model_module_version": "1.5.0",
          "state": {
            "_view_name": "HTMLView",
            "style": "IPY_MODEL_26747830ba20461dba198e0ef479b2ba",
            "_dom_classes": [],
            "description": "",
            "_model_name": "HTMLModel",
            "placeholder": "​",
            "_view_module": "@jupyter-widgets/controls",
            "_model_module_version": "1.5.0",
            "value": " 3/3 [00:00&lt;00:00, 61.56it/s]",
            "_view_count": null,
            "_view_module_version": "1.5.0",
            "description_tooltip": null,
            "_model_module": "@jupyter-widgets/controls",
            "layout": "IPY_MODEL_be22d40e4cab47d9a1470f4b1198f2ee"
          }
        },
        "b5e891afd07245318a356992ae483c39": {
          "model_module": "@jupyter-widgets/controls",
          "model_name": "DescriptionStyleModel",
          "model_module_version": "1.5.0",
          "state": {
            "_view_name": "StyleView",
            "_model_name": "DescriptionStyleModel",
            "description_width": "",
            "_view_module": "@jupyter-widgets/base",
            "_model_module_version": "1.5.0",
            "_view_count": null,
            "_view_module_version": "1.2.0",
            "_model_module": "@jupyter-widgets/controls"
          }
        },
        "3637cc85a2644ec98e8040cea0386ffd": {
          "model_module": "@jupyter-widgets/base",
          "model_name": "LayoutModel",
          "model_module_version": "1.2.0",
          "state": {
            "_view_name": "LayoutView",
            "grid_template_rows": null,
            "right": null,
            "justify_content": null,
            "_view_module": "@jupyter-widgets/base",
            "overflow": null,
            "_model_module_version": "1.2.0",
            "_view_count": null,
            "flex_flow": null,
            "width": null,
            "min_width": null,
            "border": null,
            "align_items": null,
            "bottom": null,
            "_model_module": "@jupyter-widgets/base",
            "top": null,
            "grid_column": null,
            "overflow_y": null,
            "overflow_x": null,
            "grid_auto_flow": null,
            "grid_area": null,
            "grid_template_columns": null,
            "flex": null,
            "_model_name": "LayoutModel",
            "justify_items": null,
            "grid_row": null,
            "max_height": null,
            "align_content": null,
            "visibility": null,
            "align_self": null,
            "height": null,
            "min_height": null,
            "padding": null,
            "grid_auto_rows": null,
            "grid_gap": null,
            "max_width": null,
            "order": null,
            "_view_module_version": "1.2.0",
            "grid_template_areas": null,
            "object_position": null,
            "object_fit": null,
            "grid_auto_columns": null,
            "margin": null,
            "display": null,
            "left": null
          }
        },
        "9538b3d842ef4f09898c2eb8d72383be": {
          "model_module": "@jupyter-widgets/controls",
          "model_name": "ProgressStyleModel",
          "model_module_version": "1.5.0",
          "state": {
            "_view_name": "StyleView",
            "_model_name": "ProgressStyleModel",
            "description_width": "",
            "_view_module": "@jupyter-widgets/base",
            "_model_module_version": "1.5.0",
            "_view_count": null,
            "_view_module_version": "1.2.0",
            "bar_color": null,
            "_model_module": "@jupyter-widgets/controls"
          }
        },
        "d5fd0aea25764e4985676348e1534c85": {
          "model_module": "@jupyter-widgets/base",
          "model_name": "LayoutModel",
          "model_module_version": "1.2.0",
          "state": {
            "_view_name": "LayoutView",
            "grid_template_rows": null,
            "right": null,
            "justify_content": null,
            "_view_module": "@jupyter-widgets/base",
            "overflow": null,
            "_model_module_version": "1.2.0",
            "_view_count": null,
            "flex_flow": null,
            "width": null,
            "min_width": null,
            "border": null,
            "align_items": null,
            "bottom": null,
            "_model_module": "@jupyter-widgets/base",
            "top": null,
            "grid_column": null,
            "overflow_y": null,
            "overflow_x": null,
            "grid_auto_flow": null,
            "grid_area": null,
            "grid_template_columns": null,
            "flex": null,
            "_model_name": "LayoutModel",
            "justify_items": null,
            "grid_row": null,
            "max_height": null,
            "align_content": null,
            "visibility": null,
            "align_self": null,
            "height": null,
            "min_height": null,
            "padding": null,
            "grid_auto_rows": null,
            "grid_gap": null,
            "max_width": null,
            "order": null,
            "_view_module_version": "1.2.0",
            "grid_template_areas": null,
            "object_position": null,
            "object_fit": null,
            "grid_auto_columns": null,
            "margin": null,
            "display": null,
            "left": null
          }
        },
        "26747830ba20461dba198e0ef479b2ba": {
          "model_module": "@jupyter-widgets/controls",
          "model_name": "DescriptionStyleModel",
          "model_module_version": "1.5.0",
          "state": {
            "_view_name": "StyleView",
            "_model_name": "DescriptionStyleModel",
            "description_width": "",
            "_view_module": "@jupyter-widgets/base",
            "_model_module_version": "1.5.0",
            "_view_count": null,
            "_view_module_version": "1.2.0",
            "_model_module": "@jupyter-widgets/controls"
          }
        },
        "be22d40e4cab47d9a1470f4b1198f2ee": {
          "model_module": "@jupyter-widgets/base",
          "model_name": "LayoutModel",
          "model_module_version": "1.2.0",
          "state": {
            "_view_name": "LayoutView",
            "grid_template_rows": null,
            "right": null,
            "justify_content": null,
            "_view_module": "@jupyter-widgets/base",
            "overflow": null,
            "_model_module_version": "1.2.0",
            "_view_count": null,
            "flex_flow": null,
            "width": null,
            "min_width": null,
            "border": null,
            "align_items": null,
            "bottom": null,
            "_model_module": "@jupyter-widgets/base",
            "top": null,
            "grid_column": null,
            "overflow_y": null,
            "overflow_x": null,
            "grid_auto_flow": null,
            "grid_area": null,
            "grid_template_columns": null,
            "flex": null,
            "_model_name": "LayoutModel",
            "justify_items": null,
            "grid_row": null,
            "max_height": null,
            "align_content": null,
            "visibility": null,
            "align_self": null,
            "height": null,
            "min_height": null,
            "padding": null,
            "grid_auto_rows": null,
            "grid_gap": null,
            "max_width": null,
            "order": null,
            "_view_module_version": "1.2.0",
            "grid_template_areas": null,
            "object_position": null,
            "object_fit": null,
            "grid_auto_columns": null,
            "margin": null,
            "display": null,
            "left": null
          }
        },
        "783db4b92b9f4fe8b0a6b00f5e5d7c2e": {
          "model_module": "@jupyter-widgets/controls",
          "model_name": "HBoxModel",
          "model_module_version": "1.5.0",
          "state": {
            "_view_name": "HBoxView",
            "_dom_classes": [],
            "_model_name": "HBoxModel",
            "_view_module": "@jupyter-widgets/controls",
            "_model_module_version": "1.5.0",
            "_view_count": null,
            "_view_module_version": "1.5.0",
            "box_style": "",
            "layout": "IPY_MODEL_064771612e0b4fa28a20b5690792081a",
            "_model_module": "@jupyter-widgets/controls",
            "children": [
              "IPY_MODEL_56543e00926f4771b8ef142ca528ae2f",
              "IPY_MODEL_7faea59202c641718ab9259ae2e02c7b",
              "IPY_MODEL_8773bf9d255943659791a9c6b24e711a"
            ]
          }
        },
        "064771612e0b4fa28a20b5690792081a": {
          "model_module": "@jupyter-widgets/base",
          "model_name": "LayoutModel",
          "model_module_version": "1.2.0",
          "state": {
            "_view_name": "LayoutView",
            "grid_template_rows": null,
            "right": null,
            "justify_content": null,
            "_view_module": "@jupyter-widgets/base",
            "overflow": null,
            "_model_module_version": "1.2.0",
            "_view_count": null,
            "flex_flow": null,
            "width": null,
            "min_width": null,
            "border": null,
            "align_items": null,
            "bottom": null,
            "_model_module": "@jupyter-widgets/base",
            "top": null,
            "grid_column": null,
            "overflow_y": null,
            "overflow_x": null,
            "grid_auto_flow": null,
            "grid_area": null,
            "grid_template_columns": null,
            "flex": null,
            "_model_name": "LayoutModel",
            "justify_items": null,
            "grid_row": null,
            "max_height": null,
            "align_content": null,
            "visibility": null,
            "align_self": null,
            "height": null,
            "min_height": null,
            "padding": null,
            "grid_auto_rows": null,
            "grid_gap": null,
            "max_width": null,
            "order": null,
            "_view_module_version": "1.2.0",
            "grid_template_areas": null,
            "object_position": null,
            "object_fit": null,
            "grid_auto_columns": null,
            "margin": null,
            "display": null,
            "left": null
          }
        },
        "56543e00926f4771b8ef142ca528ae2f": {
          "model_module": "@jupyter-widgets/controls",
          "model_name": "HTMLModel",
          "model_module_version": "1.5.0",
          "state": {
            "_view_name": "HTMLView",
            "style": "IPY_MODEL_ba1ae33b3556447eb2c9752e96a3631a",
            "_dom_classes": [],
            "description": "",
            "_model_name": "HTMLModel",
            "placeholder": "​",
            "_view_module": "@jupyter-widgets/controls",
            "_model_module_version": "1.5.0",
            "value": "replaying log with TBR, completed variants :: 100%",
            "_view_count": null,
            "_view_module_version": "1.5.0",
            "description_tooltip": null,
            "_model_module": "@jupyter-widgets/controls",
            "layout": "IPY_MODEL_57acb2d9b95142bf8008104e58a6927d"
          }
        },
        "7faea59202c641718ab9259ae2e02c7b": {
          "model_module": "@jupyter-widgets/controls",
          "model_name": "FloatProgressModel",
          "model_module_version": "1.5.0",
          "state": {
            "_view_name": "ProgressView",
            "style": "IPY_MODEL_3cec4292fdaf4840836d76c160f0854c",
            "_dom_classes": [],
            "description": "",
            "_model_name": "FloatProgressModel",
            "bar_style": "success",
            "max": 3,
            "_view_module": "@jupyter-widgets/controls",
            "_model_module_version": "1.5.0",
            "value": 3,
            "_view_count": null,
            "_view_module_version": "1.5.0",
            "orientation": "horizontal",
            "min": 0,
            "description_tooltip": null,
            "_model_module": "@jupyter-widgets/controls",
            "layout": "IPY_MODEL_094146fff1a94d1aa6895b5a412bfba6"
          }
        },
        "8773bf9d255943659791a9c6b24e711a": {
          "model_module": "@jupyter-widgets/controls",
          "model_name": "HTMLModel",
          "model_module_version": "1.5.0",
          "state": {
            "_view_name": "HTMLView",
            "style": "IPY_MODEL_4437b0cf6e984acc92f05eebffd6344d",
            "_dom_classes": [],
            "description": "",
            "_model_name": "HTMLModel",
            "placeholder": "​",
            "_view_module": "@jupyter-widgets/controls",
            "_model_module_version": "1.5.0",
            "value": " 3/3 [00:00&lt;00:00, 63.01it/s]",
            "_view_count": null,
            "_view_module_version": "1.5.0",
            "description_tooltip": null,
            "_model_module": "@jupyter-widgets/controls",
            "layout": "IPY_MODEL_b374ad1faf6d409ab830615bd370b3d5"
          }
        },
        "ba1ae33b3556447eb2c9752e96a3631a": {
          "model_module": "@jupyter-widgets/controls",
          "model_name": "DescriptionStyleModel",
          "model_module_version": "1.5.0",
          "state": {
            "_view_name": "StyleView",
            "_model_name": "DescriptionStyleModel",
            "description_width": "",
            "_view_module": "@jupyter-widgets/base",
            "_model_module_version": "1.5.0",
            "_view_count": null,
            "_view_module_version": "1.2.0",
            "_model_module": "@jupyter-widgets/controls"
          }
        },
        "57acb2d9b95142bf8008104e58a6927d": {
          "model_module": "@jupyter-widgets/base",
          "model_name": "LayoutModel",
          "model_module_version": "1.2.0",
          "state": {
            "_view_name": "LayoutView",
            "grid_template_rows": null,
            "right": null,
            "justify_content": null,
            "_view_module": "@jupyter-widgets/base",
            "overflow": null,
            "_model_module_version": "1.2.0",
            "_view_count": null,
            "flex_flow": null,
            "width": null,
            "min_width": null,
            "border": null,
            "align_items": null,
            "bottom": null,
            "_model_module": "@jupyter-widgets/base",
            "top": null,
            "grid_column": null,
            "overflow_y": null,
            "overflow_x": null,
            "grid_auto_flow": null,
            "grid_area": null,
            "grid_template_columns": null,
            "flex": null,
            "_model_name": "LayoutModel",
            "justify_items": null,
            "grid_row": null,
            "max_height": null,
            "align_content": null,
            "visibility": null,
            "align_self": null,
            "height": null,
            "min_height": null,
            "padding": null,
            "grid_auto_rows": null,
            "grid_gap": null,
            "max_width": null,
            "order": null,
            "_view_module_version": "1.2.0",
            "grid_template_areas": null,
            "object_position": null,
            "object_fit": null,
            "grid_auto_columns": null,
            "margin": null,
            "display": null,
            "left": null
          }
        },
        "3cec4292fdaf4840836d76c160f0854c": {
          "model_module": "@jupyter-widgets/controls",
          "model_name": "ProgressStyleModel",
          "model_module_version": "1.5.0",
          "state": {
            "_view_name": "StyleView",
            "_model_name": "ProgressStyleModel",
            "description_width": "",
            "_view_module": "@jupyter-widgets/base",
            "_model_module_version": "1.5.0",
            "_view_count": null,
            "_view_module_version": "1.2.0",
            "bar_color": null,
            "_model_module": "@jupyter-widgets/controls"
          }
        },
        "094146fff1a94d1aa6895b5a412bfba6": {
          "model_module": "@jupyter-widgets/base",
          "model_name": "LayoutModel",
          "model_module_version": "1.2.0",
          "state": {
            "_view_name": "LayoutView",
            "grid_template_rows": null,
            "right": null,
            "justify_content": null,
            "_view_module": "@jupyter-widgets/base",
            "overflow": null,
            "_model_module_version": "1.2.0",
            "_view_count": null,
            "flex_flow": null,
            "width": null,
            "min_width": null,
            "border": null,
            "align_items": null,
            "bottom": null,
            "_model_module": "@jupyter-widgets/base",
            "top": null,
            "grid_column": null,
            "overflow_y": null,
            "overflow_x": null,
            "grid_auto_flow": null,
            "grid_area": null,
            "grid_template_columns": null,
            "flex": null,
            "_model_name": "LayoutModel",
            "justify_items": null,
            "grid_row": null,
            "max_height": null,
            "align_content": null,
            "visibility": null,
            "align_self": null,
            "height": null,
            "min_height": null,
            "padding": null,
            "grid_auto_rows": null,
            "grid_gap": null,
            "max_width": null,
            "order": null,
            "_view_module_version": "1.2.0",
            "grid_template_areas": null,
            "object_position": null,
            "object_fit": null,
            "grid_auto_columns": null,
            "margin": null,
            "display": null,
            "left": null
          }
        },
        "4437b0cf6e984acc92f05eebffd6344d": {
          "model_module": "@jupyter-widgets/controls",
          "model_name": "DescriptionStyleModel",
          "model_module_version": "1.5.0",
          "state": {
            "_view_name": "StyleView",
            "_model_name": "DescriptionStyleModel",
            "description_width": "",
            "_view_module": "@jupyter-widgets/base",
            "_model_module_version": "1.5.0",
            "_view_count": null,
            "_view_module_version": "1.2.0",
            "_model_module": "@jupyter-widgets/controls"
          }
        },
        "b374ad1faf6d409ab830615bd370b3d5": {
          "model_module": "@jupyter-widgets/base",
          "model_name": "LayoutModel",
          "model_module_version": "1.2.0",
          "state": {
            "_view_name": "LayoutView",
            "grid_template_rows": null,
            "right": null,
            "justify_content": null,
            "_view_module": "@jupyter-widgets/base",
            "overflow": null,
            "_model_module_version": "1.2.0",
            "_view_count": null,
            "flex_flow": null,
            "width": null,
            "min_width": null,
            "border": null,
            "align_items": null,
            "bottom": null,
            "_model_module": "@jupyter-widgets/base",
            "top": null,
            "grid_column": null,
            "overflow_y": null,
            "overflow_x": null,
            "grid_auto_flow": null,
            "grid_area": null,
            "grid_template_columns": null,
            "flex": null,
            "_model_name": "LayoutModel",
            "justify_items": null,
            "grid_row": null,
            "max_height": null,
            "align_content": null,
            "visibility": null,
            "align_self": null,
            "height": null,
            "min_height": null,
            "padding": null,
            "grid_auto_rows": null,
            "grid_gap": null,
            "max_width": null,
            "order": null,
            "_view_module_version": "1.2.0",
            "grid_template_areas": null,
            "object_position": null,
            "object_fit": null,
            "grid_auto_columns": null,
            "margin": null,
            "display": null,
            "left": null
          }
        },
        "cdc67fdc12d34035b55157e0ebfe0308": {
          "model_module": "@jupyter-widgets/controls",
          "model_name": "HBoxModel",
          "model_module_version": "1.5.0",
          "state": {
            "_view_name": "HBoxView",
            "_dom_classes": [],
            "_model_name": "HBoxModel",
            "_view_module": "@jupyter-widgets/controls",
            "_model_module_version": "1.5.0",
            "_view_count": null,
            "_view_module_version": "1.5.0",
            "box_style": "",
            "layout": "IPY_MODEL_f0d3d9883512495fa23fc668e12013b0",
            "_model_module": "@jupyter-widgets/controls",
            "children": [
              "IPY_MODEL_4d6794cd1f2243c78740ba156c4e2940",
              "IPY_MODEL_8d5087756cde4698843c0cade548ec43",
              "IPY_MODEL_a3b3d09322b24bde9177304cfc5f9532"
            ]
          }
        },
        "f0d3d9883512495fa23fc668e12013b0": {
          "model_module": "@jupyter-widgets/base",
          "model_name": "LayoutModel",
          "model_module_version": "1.2.0",
          "state": {
            "_view_name": "LayoutView",
            "grid_template_rows": null,
            "right": null,
            "justify_content": null,
            "_view_module": "@jupyter-widgets/base",
            "overflow": null,
            "_model_module_version": "1.2.0",
            "_view_count": null,
            "flex_flow": null,
            "width": null,
            "min_width": null,
            "border": null,
            "align_items": null,
            "bottom": null,
            "_model_module": "@jupyter-widgets/base",
            "top": null,
            "grid_column": null,
            "overflow_y": null,
            "overflow_x": null,
            "grid_auto_flow": null,
            "grid_area": null,
            "grid_template_columns": null,
            "flex": null,
            "_model_name": "LayoutModel",
            "justify_items": null,
            "grid_row": null,
            "max_height": null,
            "align_content": null,
            "visibility": null,
            "align_self": null,
            "height": null,
            "min_height": null,
            "padding": null,
            "grid_auto_rows": null,
            "grid_gap": null,
            "max_width": null,
            "order": null,
            "_view_module_version": "1.2.0",
            "grid_template_areas": null,
            "object_position": null,
            "object_fit": null,
            "grid_auto_columns": null,
            "margin": null,
            "display": null,
            "left": null
          }
        },
        "4d6794cd1f2243c78740ba156c4e2940": {
          "model_module": "@jupyter-widgets/controls",
          "model_name": "HTMLModel",
          "model_module_version": "1.5.0",
          "state": {
            "_view_name": "HTMLView",
            "style": "IPY_MODEL_7d31bdbb79f4492ab06de868f6785a54",
            "_dom_classes": [],
            "description": "",
            "_model_name": "HTMLModel",
            "placeholder": "​",
            "_view_module": "@jupyter-widgets/controls",
            "_model_module_version": "1.5.0",
            "value": "replaying log with TBR, completed variants :: 100%",
            "_view_count": null,
            "_view_module_version": "1.5.0",
            "description_tooltip": null,
            "_model_module": "@jupyter-widgets/controls",
            "layout": "IPY_MODEL_bc100737d6eb4b8ebdf5d4520516a8b7"
          }
        },
        "8d5087756cde4698843c0cade548ec43": {
          "model_module": "@jupyter-widgets/controls",
          "model_name": "FloatProgressModel",
          "model_module_version": "1.5.0",
          "state": {
            "_view_name": "ProgressView",
            "style": "IPY_MODEL_a23fc67765ed470fb1a03e152b38d20e",
            "_dom_classes": [],
            "description": "",
            "_model_name": "FloatProgressModel",
            "bar_style": "success",
            "max": 3,
            "_view_module": "@jupyter-widgets/controls",
            "_model_module_version": "1.5.0",
            "value": 3,
            "_view_count": null,
            "_view_module_version": "1.5.0",
            "orientation": "horizontal",
            "min": 0,
            "description_tooltip": null,
            "_model_module": "@jupyter-widgets/controls",
            "layout": "IPY_MODEL_924515c1d6d84f4d8e47384f45281525"
          }
        },
        "a3b3d09322b24bde9177304cfc5f9532": {
          "model_module": "@jupyter-widgets/controls",
          "model_name": "HTMLModel",
          "model_module_version": "1.5.0",
          "state": {
            "_view_name": "HTMLView",
            "style": "IPY_MODEL_51696db15d8642558faeb6e4c646a598",
            "_dom_classes": [],
            "description": "",
            "_model_name": "HTMLModel",
            "placeholder": "​",
            "_view_module": "@jupyter-widgets/controls",
            "_model_module_version": "1.5.0",
            "value": " 3/3 [00:00&lt;00:00, 42.77it/s]",
            "_view_count": null,
            "_view_module_version": "1.5.0",
            "description_tooltip": null,
            "_model_module": "@jupyter-widgets/controls",
            "layout": "IPY_MODEL_c4b0721daeed426faf927924b68869a1"
          }
        },
        "7d31bdbb79f4492ab06de868f6785a54": {
          "model_module": "@jupyter-widgets/controls",
          "model_name": "DescriptionStyleModel",
          "model_module_version": "1.5.0",
          "state": {
            "_view_name": "StyleView",
            "_model_name": "DescriptionStyleModel",
            "description_width": "",
            "_view_module": "@jupyter-widgets/base",
            "_model_module_version": "1.5.0",
            "_view_count": null,
            "_view_module_version": "1.2.0",
            "_model_module": "@jupyter-widgets/controls"
          }
        },
        "bc100737d6eb4b8ebdf5d4520516a8b7": {
          "model_module": "@jupyter-widgets/base",
          "model_name": "LayoutModel",
          "model_module_version": "1.2.0",
          "state": {
            "_view_name": "LayoutView",
            "grid_template_rows": null,
            "right": null,
            "justify_content": null,
            "_view_module": "@jupyter-widgets/base",
            "overflow": null,
            "_model_module_version": "1.2.0",
            "_view_count": null,
            "flex_flow": null,
            "width": null,
            "min_width": null,
            "border": null,
            "align_items": null,
            "bottom": null,
            "_model_module": "@jupyter-widgets/base",
            "top": null,
            "grid_column": null,
            "overflow_y": null,
            "overflow_x": null,
            "grid_auto_flow": null,
            "grid_area": null,
            "grid_template_columns": null,
            "flex": null,
            "_model_name": "LayoutModel",
            "justify_items": null,
            "grid_row": null,
            "max_height": null,
            "align_content": null,
            "visibility": null,
            "align_self": null,
            "height": null,
            "min_height": null,
            "padding": null,
            "grid_auto_rows": null,
            "grid_gap": null,
            "max_width": null,
            "order": null,
            "_view_module_version": "1.2.0",
            "grid_template_areas": null,
            "object_position": null,
            "object_fit": null,
            "grid_auto_columns": null,
            "margin": null,
            "display": null,
            "left": null
          }
        },
        "a23fc67765ed470fb1a03e152b38d20e": {
          "model_module": "@jupyter-widgets/controls",
          "model_name": "ProgressStyleModel",
          "model_module_version": "1.5.0",
          "state": {
            "_view_name": "StyleView",
            "_model_name": "ProgressStyleModel",
            "description_width": "",
            "_view_module": "@jupyter-widgets/base",
            "_model_module_version": "1.5.0",
            "_view_count": null,
            "_view_module_version": "1.2.0",
            "bar_color": null,
            "_model_module": "@jupyter-widgets/controls"
          }
        },
        "924515c1d6d84f4d8e47384f45281525": {
          "model_module": "@jupyter-widgets/base",
          "model_name": "LayoutModel",
          "model_module_version": "1.2.0",
          "state": {
            "_view_name": "LayoutView",
            "grid_template_rows": null,
            "right": null,
            "justify_content": null,
            "_view_module": "@jupyter-widgets/base",
            "overflow": null,
            "_model_module_version": "1.2.0",
            "_view_count": null,
            "flex_flow": null,
            "width": null,
            "min_width": null,
            "border": null,
            "align_items": null,
            "bottom": null,
            "_model_module": "@jupyter-widgets/base",
            "top": null,
            "grid_column": null,
            "overflow_y": null,
            "overflow_x": null,
            "grid_auto_flow": null,
            "grid_area": null,
            "grid_template_columns": null,
            "flex": null,
            "_model_name": "LayoutModel",
            "justify_items": null,
            "grid_row": null,
            "max_height": null,
            "align_content": null,
            "visibility": null,
            "align_self": null,
            "height": null,
            "min_height": null,
            "padding": null,
            "grid_auto_rows": null,
            "grid_gap": null,
            "max_width": null,
            "order": null,
            "_view_module_version": "1.2.0",
            "grid_template_areas": null,
            "object_position": null,
            "object_fit": null,
            "grid_auto_columns": null,
            "margin": null,
            "display": null,
            "left": null
          }
        },
        "51696db15d8642558faeb6e4c646a598": {
          "model_module": "@jupyter-widgets/controls",
          "model_name": "DescriptionStyleModel",
          "model_module_version": "1.5.0",
          "state": {
            "_view_name": "StyleView",
            "_model_name": "DescriptionStyleModel",
            "description_width": "",
            "_view_module": "@jupyter-widgets/base",
            "_model_module_version": "1.5.0",
            "_view_count": null,
            "_view_module_version": "1.2.0",
            "_model_module": "@jupyter-widgets/controls"
          }
        },
        "c4b0721daeed426faf927924b68869a1": {
          "model_module": "@jupyter-widgets/base",
          "model_name": "LayoutModel",
          "model_module_version": "1.2.0",
          "state": {
            "_view_name": "LayoutView",
            "grid_template_rows": null,
            "right": null,
            "justify_content": null,
            "_view_module": "@jupyter-widgets/base",
            "overflow": null,
            "_model_module_version": "1.2.0",
            "_view_count": null,
            "flex_flow": null,
            "width": null,
            "min_width": null,
            "border": null,
            "align_items": null,
            "bottom": null,
            "_model_module": "@jupyter-widgets/base",
            "top": null,
            "grid_column": null,
            "overflow_y": null,
            "overflow_x": null,
            "grid_auto_flow": null,
            "grid_area": null,
            "grid_template_columns": null,
            "flex": null,
            "_model_name": "LayoutModel",
            "justify_items": null,
            "grid_row": null,
            "max_height": null,
            "align_content": null,
            "visibility": null,
            "align_self": null,
            "height": null,
            "min_height": null,
            "padding": null,
            "grid_auto_rows": null,
            "grid_gap": null,
            "max_width": null,
            "order": null,
            "_view_module_version": "1.2.0",
            "grid_template_areas": null,
            "object_position": null,
            "object_fit": null,
            "grid_auto_columns": null,
            "margin": null,
            "display": null,
            "left": null
          }
        }
      }
    }
  },
  "cells": [
    {
      "cell_type": "code",
      "metadata": {
        "colab": {
          "base_uri": "https://localhost:8080/"
        },
        "id": "NC_g2by3ydFO",
        "outputId": "ea22b0ff-faff-45cb-d513-fa836d76858b"
      },
      "source": [
        "# mengkoneksikan colab dengan google drive\n",
        "from google.colab import drive\n",
        "drive.mount('/content/drive')"
      ],
      "execution_count": null,
      "outputs": [
        {
          "output_type": "stream",
          "name": "stdout",
          "text": [
            "Mounted at /content/drive\n"
          ]
        }
      ]
    },
    {
      "cell_type": "code",
      "metadata": {
        "id": "-k9dnxYeypjx"
      },
      "source": [
        "# Import library\n",
        "import pandas as pd\n",
        "import numpy as np\n",
        "#from datetime import date\n",
        "from IPython.display import Image\n",
        "pd.options.mode.chained_assignment = None  # default='warn'"
      ],
      "execution_count": null,
      "outputs": []
    },
    {
      "cell_type": "code",
      "metadata": {
        "colab": {
          "base_uri": "https://localhost:8080/"
        },
        "id": "86hX4dxiysqD",
        "outputId": "6a4252e3-2df9-4219-9488-87c525e2af2c"
      },
      "source": [
        "%ls"
      ],
      "execution_count": null,
      "outputs": [
        {
          "output_type": "stream",
          "name": "stdout",
          "text": [
            "\u001b[0m\u001b[01;34mdrive\u001b[0m/  \u001b[01;34msample_data\u001b[0m/\n"
          ]
        }
      ]
    },
    {
      "cell_type": "code",
      "metadata": {
        "id": "9sJIzZU_yuYU"
      },
      "source": [
        "# import dataset kedalam program python\n",
        "event_df = pd.read_csv('drive/MyDrive/running-example.csv', sep=';', low_memory=False)"
      ],
      "execution_count": null,
      "outputs": []
    },
    {
      "cell_type": "code",
      "metadata": {
        "colab": {
          "base_uri": "https://localhost:8080/",
          "height": 206
        },
        "id": "DBH4SCb5y0YR",
        "outputId": "5a8ee03f-22cc-4883-97d1-88184fa4f078"
      },
      "source": [
        "# Melihat Ringkasan dataset\n",
        "event_df.head()"
      ],
      "execution_count": null,
      "outputs": [
        {
          "output_type": "execute_result",
          "data": {
            "text/html": [
              "<div>\n",
              "<style scoped>\n",
              "    .dataframe tbody tr th:only-of-type {\n",
              "        vertical-align: middle;\n",
              "    }\n",
              "\n",
              "    .dataframe tbody tr th {\n",
              "        vertical-align: top;\n",
              "    }\n",
              "\n",
              "    .dataframe thead th {\n",
              "        text-align: right;\n",
              "    }\n",
              "</style>\n",
              "<table border=\"1\" class=\"dataframe\">\n",
              "  <thead>\n",
              "    <tr style=\"text-align: right;\">\n",
              "      <th></th>\n",
              "      <th>case_id</th>\n",
              "      <th>activity</th>\n",
              "      <th>timestamp</th>\n",
              "      <th>costs</th>\n",
              "      <th>resource</th>\n",
              "    </tr>\n",
              "  </thead>\n",
              "  <tbody>\n",
              "    <tr>\n",
              "      <th>0</th>\n",
              "      <td>3</td>\n",
              "      <td>register request</td>\n",
              "      <td>2010-12-30 14:32:00+01:00</td>\n",
              "      <td>50</td>\n",
              "      <td>Pete</td>\n",
              "    </tr>\n",
              "    <tr>\n",
              "      <th>1</th>\n",
              "      <td>3</td>\n",
              "      <td>examine casually</td>\n",
              "      <td>2010-12-30 15:06:00+01:00</td>\n",
              "      <td>400</td>\n",
              "      <td>Mike</td>\n",
              "    </tr>\n",
              "    <tr>\n",
              "      <th>2</th>\n",
              "      <td>3</td>\n",
              "      <td>check ticket</td>\n",
              "      <td>2010-12-30 16:34:00+01:00</td>\n",
              "      <td>100</td>\n",
              "      <td>Ellen</td>\n",
              "    </tr>\n",
              "    <tr>\n",
              "      <th>3</th>\n",
              "      <td>3</td>\n",
              "      <td>decide</td>\n",
              "      <td>2011-01-06 09:18:00+01:00</td>\n",
              "      <td>200</td>\n",
              "      <td>Sara</td>\n",
              "    </tr>\n",
              "    <tr>\n",
              "      <th>4</th>\n",
              "      <td>3</td>\n",
              "      <td>reinitiate request</td>\n",
              "      <td>2011-01-06 12:18:00+01:00</td>\n",
              "      <td>200</td>\n",
              "      <td>Sara</td>\n",
              "    </tr>\n",
              "  </tbody>\n",
              "</table>\n",
              "</div>"
            ],
            "text/plain": [
              "   case_id            activity                  timestamp  costs resource\n",
              "0        3    register request  2010-12-30 14:32:00+01:00     50     Pete\n",
              "1        3    examine casually  2010-12-30 15:06:00+01:00    400     Mike\n",
              "2        3        check ticket  2010-12-30 16:34:00+01:00    100    Ellen\n",
              "3        3              decide  2011-01-06 09:18:00+01:00    200     Sara\n",
              "4        3  reinitiate request  2011-01-06 12:18:00+01:00    200     Sara"
            ]
          },
          "metadata": {},
          "execution_count": 6
        }
      ]
    },
    {
      "cell_type": "code",
      "metadata": {
        "colab": {
          "base_uri": "https://localhost:8080/"
        },
        "id": "umKo5s0XzC7E",
        "outputId": "326e94fc-819d-4866-c033-3cdb88038d32"
      },
      "source": [
        "# melihat bentuk pada dataset\n",
        "print('{} rows and {} columns.'.format(event_df.shape[0], event_df.shape[1]))"
      ],
      "execution_count": null,
      "outputs": [
        {
          "output_type": "stream",
          "name": "stdout",
          "text": [
            "42 rows and 5 columns.\n"
          ]
        }
      ]
    },
    {
      "cell_type": "code",
      "metadata": {
        "id": "H6Fpls6mzHXI"
      },
      "source": [
        "# melakukan pemilihan column yang digunakan dan membentuk dataset baru\n",
        "events = event_df[['case_id', 'activity', 'timestamp']]"
      ],
      "execution_count": null,
      "outputs": []
    },
    {
      "cell_type": "code",
      "metadata": {
        "id": "9Yh1zYotzN-v"
      },
      "source": [
        "# merubah nama colum yang digunakan pada dataset\n",
        "events.rename(columns={'Case_id':'case',\n",
        "                       'activity':'label',\n",
        "                       'timestamp':'datetime'\n",
        "                       }, inplace=True)"
      ],
      "execution_count": null,
      "outputs": []
    },
    {
      "cell_type": "code",
      "metadata": {
        "colab": {
          "base_uri": "https://localhost:8080/",
          "height": 206
        },
        "id": "g7xlk80-zPsB",
        "outputId": "de13f932-cf6c-41c8-b97a-32a3f19e46b9"
      },
      "source": [
        "# melihat ringkasan dataset\n",
        "events.head()"
      ],
      "execution_count": null,
      "outputs": [
        {
          "output_type": "execute_result",
          "data": {
            "text/html": [
              "<div>\n",
              "<style scoped>\n",
              "    .dataframe tbody tr th:only-of-type {\n",
              "        vertical-align: middle;\n",
              "    }\n",
              "\n",
              "    .dataframe tbody tr th {\n",
              "        vertical-align: top;\n",
              "    }\n",
              "\n",
              "    .dataframe thead th {\n",
              "        text-align: right;\n",
              "    }\n",
              "</style>\n",
              "<table border=\"1\" class=\"dataframe\">\n",
              "  <thead>\n",
              "    <tr style=\"text-align: right;\">\n",
              "      <th></th>\n",
              "      <th>case_id</th>\n",
              "      <th>label</th>\n",
              "      <th>datetime</th>\n",
              "    </tr>\n",
              "  </thead>\n",
              "  <tbody>\n",
              "    <tr>\n",
              "      <th>0</th>\n",
              "      <td>3</td>\n",
              "      <td>register request</td>\n",
              "      <td>2010-12-30 14:32:00+01:00</td>\n",
              "    </tr>\n",
              "    <tr>\n",
              "      <th>1</th>\n",
              "      <td>3</td>\n",
              "      <td>examine casually</td>\n",
              "      <td>2010-12-30 15:06:00+01:00</td>\n",
              "    </tr>\n",
              "    <tr>\n",
              "      <th>2</th>\n",
              "      <td>3</td>\n",
              "      <td>check ticket</td>\n",
              "      <td>2010-12-30 16:34:00+01:00</td>\n",
              "    </tr>\n",
              "    <tr>\n",
              "      <th>3</th>\n",
              "      <td>3</td>\n",
              "      <td>decide</td>\n",
              "      <td>2011-01-06 09:18:00+01:00</td>\n",
              "    </tr>\n",
              "    <tr>\n",
              "      <th>4</th>\n",
              "      <td>3</td>\n",
              "      <td>reinitiate request</td>\n",
              "      <td>2011-01-06 12:18:00+01:00</td>\n",
              "    </tr>\n",
              "  </tbody>\n",
              "</table>\n",
              "</div>"
            ],
            "text/plain": [
              "   case_id               label                   datetime\n",
              "0        3    register request  2010-12-30 14:32:00+01:00\n",
              "1        3    examine casually  2010-12-30 15:06:00+01:00\n",
              "2        3        check ticket  2010-12-30 16:34:00+01:00\n",
              "3        3              decide  2011-01-06 09:18:00+01:00\n",
              "4        3  reinitiate request  2011-01-06 12:18:00+01:00"
            ]
          },
          "metadata": {},
          "execution_count": 10
        }
      ]
    },
    {
      "cell_type": "code",
      "metadata": {
        "colab": {
          "base_uri": "https://localhost:8080/"
        },
        "id": "KF_EWTCgzUEa",
        "outputId": "ef353f0e-659b-4758-e454-577928dd4548"
      },
      "source": [
        "# melihat type data pada dataset\n",
        "events.dtypes"
      ],
      "execution_count": null,
      "outputs": [
        {
          "output_type": "execute_result",
          "data": {
            "text/plain": [
              "case_id      int64\n",
              "label       object\n",
              "datetime    object\n",
              "dtype: object"
            ]
          },
          "metadata": {},
          "execution_count": 11
        }
      ]
    },
    {
      "cell_type": "code",
      "metadata": {
        "id": "9wHVSarWzWoG"
      },
      "source": [
        "# merubah type data pada colum case menjadi string (object)\n",
        "events['case_id'] = events.astype(str)"
      ],
      "execution_count": null,
      "outputs": []
    },
    {
      "cell_type": "code",
      "metadata": {
        "id": "nWpDcceYzaSj"
      },
      "source": [
        "# merubah type data pada column datetime menjadi datetime\n",
        "events['datetime'] = pd.to_datetime(events['datetime'])"
      ],
      "execution_count": null,
      "outputs": []
    },
    {
      "cell_type": "code",
      "metadata": {
        "colab": {
          "base_uri": "https://localhost:8080/"
        },
        "id": "nc0XfOEcze2q",
        "outputId": "72c46e5c-30d1-4de1-be34-5a13fa24dc0a"
      },
      "source": [
        "# melihat type data pada dataset\n",
        "events.dtypes"
      ],
      "execution_count": null,
      "outputs": [
        {
          "output_type": "execute_result",
          "data": {
            "text/plain": [
              "case_id                                   object\n",
              "label                                     object\n",
              "datetime    datetime64[ns, pytz.FixedOffset(60)]\n",
              "dtype: object"
            ]
          },
          "metadata": {},
          "execution_count": 14
        }
      ]
    },
    {
      "cell_type": "code",
      "metadata": {
        "colab": {
          "base_uri": "https://localhost:8080/"
        },
        "id": "wEDUgwYWzhbf",
        "outputId": "918d180d-595f-4eff-8b87-431e866207d2"
      },
      "source": [
        "# melakukan pengecekan missing value pada dataset\n",
        "events.isna().sum()"
      ],
      "execution_count": null,
      "outputs": [
        {
          "output_type": "execute_result",
          "data": {
            "text/plain": [
              "case_id     0\n",
              "label       0\n",
              "datetime    0\n",
              "dtype: int64"
            ]
          },
          "metadata": {},
          "execution_count": 15
        }
      ]
    },
    {
      "cell_type": "code",
      "metadata": {
        "colab": {
          "base_uri": "https://localhost:8080/",
          "height": 206
        },
        "id": "AJExC0x9zmUr",
        "outputId": "11fc864a-bb4e-43ac-eac0-5395a9383498"
      },
      "source": [
        "events.head()"
      ],
      "execution_count": null,
      "outputs": [
        {
          "output_type": "execute_result",
          "data": {
            "text/html": [
              "<div>\n",
              "<style scoped>\n",
              "    .dataframe tbody tr th:only-of-type {\n",
              "        vertical-align: middle;\n",
              "    }\n",
              "\n",
              "    .dataframe tbody tr th {\n",
              "        vertical-align: top;\n",
              "    }\n",
              "\n",
              "    .dataframe thead th {\n",
              "        text-align: right;\n",
              "    }\n",
              "</style>\n",
              "<table border=\"1\" class=\"dataframe\">\n",
              "  <thead>\n",
              "    <tr style=\"text-align: right;\">\n",
              "      <th></th>\n",
              "      <th>case_id</th>\n",
              "      <th>label</th>\n",
              "      <th>datetime</th>\n",
              "    </tr>\n",
              "  </thead>\n",
              "  <tbody>\n",
              "    <tr>\n",
              "      <th>0</th>\n",
              "      <td>3</td>\n",
              "      <td>register request</td>\n",
              "      <td>2010-12-30 14:32:00+01:00</td>\n",
              "    </tr>\n",
              "    <tr>\n",
              "      <th>1</th>\n",
              "      <td>3</td>\n",
              "      <td>examine casually</td>\n",
              "      <td>2010-12-30 15:06:00+01:00</td>\n",
              "    </tr>\n",
              "    <tr>\n",
              "      <th>2</th>\n",
              "      <td>3</td>\n",
              "      <td>check ticket</td>\n",
              "      <td>2010-12-30 16:34:00+01:00</td>\n",
              "    </tr>\n",
              "    <tr>\n",
              "      <th>3</th>\n",
              "      <td>3</td>\n",
              "      <td>decide</td>\n",
              "      <td>2011-01-06 09:18:00+01:00</td>\n",
              "    </tr>\n",
              "    <tr>\n",
              "      <th>4</th>\n",
              "      <td>3</td>\n",
              "      <td>reinitiate request</td>\n",
              "      <td>2011-01-06 12:18:00+01:00</td>\n",
              "    </tr>\n",
              "  </tbody>\n",
              "</table>\n",
              "</div>"
            ],
            "text/plain": [
              "  case_id               label                  datetime\n",
              "0       3    register request 2010-12-30 14:32:00+01:00\n",
              "1       3    examine casually 2010-12-30 15:06:00+01:00\n",
              "2       3        check ticket 2010-12-30 16:34:00+01:00\n",
              "3       3              decide 2011-01-06 09:18:00+01:00\n",
              "4       3  reinitiate request 2011-01-06 12:18:00+01:00"
            ]
          },
          "metadata": {},
          "execution_count": 16
        }
      ]
    },
    {
      "cell_type": "code",
      "metadata": {
        "colab": {
          "base_uri": "https://localhost:8080/"
        },
        "id": "tGeqm78mzoC1",
        "outputId": "af6a7acf-f605-4524-f8e0-67d1b7e57676"
      },
      "source": [
        "# Installasi modul PM4PY\n",
        "!pip install pm4py"
      ],
      "execution_count": null,
      "outputs": [
        {
          "output_type": "stream",
          "name": "stdout",
          "text": [
            "Collecting pm4py\n",
            "  Downloading pm4py-2.2.14-py3-none-any.whl (1.5 MB)\n",
            "\u001b[?25l\r\u001b[K     |▏                               | 10 kB 29.0 MB/s eta 0:00:01\r\u001b[K     |▍                               | 20 kB 34.0 MB/s eta 0:00:01\r\u001b[K     |▋                               | 30 kB 37.1 MB/s eta 0:00:01\r\u001b[K     |▉                               | 40 kB 22.4 MB/s eta 0:00:01\r\u001b[K     |█                               | 51 kB 10.5 MB/s eta 0:00:01\r\u001b[K     |█▎                              | 61 kB 9.3 MB/s eta 0:00:01\r\u001b[K     |█▌                              | 71 kB 10.4 MB/s eta 0:00:01\r\u001b[K     |█▊                              | 81 kB 11.4 MB/s eta 0:00:01\r\u001b[K     |██                              | 92 kB 12.4 MB/s eta 0:00:01\r\u001b[K     |██▏                             | 102 kB 9.9 MB/s eta 0:00:01\r\u001b[K     |██▍                             | 112 kB 9.9 MB/s eta 0:00:01\r\u001b[K     |██▋                             | 122 kB 9.9 MB/s eta 0:00:01\r\u001b[K     |██▉                             | 133 kB 9.9 MB/s eta 0:00:01\r\u001b[K     |███                             | 143 kB 9.9 MB/s eta 0:00:01\r\u001b[K     |███▎                            | 153 kB 9.9 MB/s eta 0:00:01\r\u001b[K     |███▌                            | 163 kB 9.9 MB/s eta 0:00:01\r\u001b[K     |███▊                            | 174 kB 9.9 MB/s eta 0:00:01\r\u001b[K     |███▉                            | 184 kB 9.9 MB/s eta 0:00:01\r\u001b[K     |████                            | 194 kB 9.9 MB/s eta 0:00:01\r\u001b[K     |████▎                           | 204 kB 9.9 MB/s eta 0:00:01\r\u001b[K     |████▌                           | 215 kB 9.9 MB/s eta 0:00:01\r\u001b[K     |████▊                           | 225 kB 9.9 MB/s eta 0:00:01\r\u001b[K     |█████                           | 235 kB 9.9 MB/s eta 0:00:01\r\u001b[K     |█████▏                          | 245 kB 9.9 MB/s eta 0:00:01\r\u001b[K     |█████▍                          | 256 kB 9.9 MB/s eta 0:00:01\r\u001b[K     |█████▋                          | 266 kB 9.9 MB/s eta 0:00:01\r\u001b[K     |█████▉                          | 276 kB 9.9 MB/s eta 0:00:01\r\u001b[K     |██████                          | 286 kB 9.9 MB/s eta 0:00:01\r\u001b[K     |██████▎                         | 296 kB 9.9 MB/s eta 0:00:01\r\u001b[K     |██████▌                         | 307 kB 9.9 MB/s eta 0:00:01\r\u001b[K     |██████▊                         | 317 kB 9.9 MB/s eta 0:00:01\r\u001b[K     |███████                         | 327 kB 9.9 MB/s eta 0:00:01\r\u001b[K     |███████▏                        | 337 kB 9.9 MB/s eta 0:00:01\r\u001b[K     |███████▍                        | 348 kB 9.9 MB/s eta 0:00:01\r\u001b[K     |███████▌                        | 358 kB 9.9 MB/s eta 0:00:01\r\u001b[K     |███████▊                        | 368 kB 9.9 MB/s eta 0:00:01\r\u001b[K     |████████                        | 378 kB 9.9 MB/s eta 0:00:01\r\u001b[K     |████████▏                       | 389 kB 9.9 MB/s eta 0:00:01\r\u001b[K     |████████▍                       | 399 kB 9.9 MB/s eta 0:00:01\r\u001b[K     |████████▋                       | 409 kB 9.9 MB/s eta 0:00:01\r\u001b[K     |████████▉                       | 419 kB 9.9 MB/s eta 0:00:01\r\u001b[K     |█████████                       | 430 kB 9.9 MB/s eta 0:00:01\r\u001b[K     |█████████▎                      | 440 kB 9.9 MB/s eta 0:00:01\r\u001b[K     |█████████▌                      | 450 kB 9.9 MB/s eta 0:00:01\r\u001b[K     |█████████▊                      | 460 kB 9.9 MB/s eta 0:00:01\r\u001b[K     |██████████                      | 471 kB 9.9 MB/s eta 0:00:01\r\u001b[K     |██████████▏                     | 481 kB 9.9 MB/s eta 0:00:01\r\u001b[K     |██████████▍                     | 491 kB 9.9 MB/s eta 0:00:01\r\u001b[K     |██████████▋                     | 501 kB 9.9 MB/s eta 0:00:01\r\u001b[K     |██████████▉                     | 512 kB 9.9 MB/s eta 0:00:01\r\u001b[K     |███████████                     | 522 kB 9.9 MB/s eta 0:00:01\r\u001b[K     |███████████▏                    | 532 kB 9.9 MB/s eta 0:00:01\r\u001b[K     |███████████▍                    | 542 kB 9.9 MB/s eta 0:00:01\r\u001b[K     |███████████▋                    | 552 kB 9.9 MB/s eta 0:00:01\r\u001b[K     |███████████▉                    | 563 kB 9.9 MB/s eta 0:00:01\r\u001b[K     |████████████                    | 573 kB 9.9 MB/s eta 0:00:01\r\u001b[K     |████████████▎                   | 583 kB 9.9 MB/s eta 0:00:01\r\u001b[K     |████████████▌                   | 593 kB 9.9 MB/s eta 0:00:01\r\u001b[K     |████████████▊                   | 604 kB 9.9 MB/s eta 0:00:01\r\u001b[K     |█████████████                   | 614 kB 9.9 MB/s eta 0:00:01\r\u001b[K     |█████████████▏                  | 624 kB 9.9 MB/s eta 0:00:01\r\u001b[K     |█████████████▍                  | 634 kB 9.9 MB/s eta 0:00:01\r\u001b[K     |█████████████▋                  | 645 kB 9.9 MB/s eta 0:00:01\r\u001b[K     |█████████████▉                  | 655 kB 9.9 MB/s eta 0:00:01\r\u001b[K     |██████████████                  | 665 kB 9.9 MB/s eta 0:00:01\r\u001b[K     |██████████████▎                 | 675 kB 9.9 MB/s eta 0:00:01\r\u001b[K     |██████████████▌                 | 686 kB 9.9 MB/s eta 0:00:01\r\u001b[K     |██████████████▊                 | 696 kB 9.9 MB/s eta 0:00:01\r\u001b[K     |██████████████▉                 | 706 kB 9.9 MB/s eta 0:00:01\r\u001b[K     |███████████████                 | 716 kB 9.9 MB/s eta 0:00:01\r\u001b[K     |███████████████▎                | 727 kB 9.9 MB/s eta 0:00:01\r\u001b[K     |███████████████▌                | 737 kB 9.9 MB/s eta 0:00:01\r\u001b[K     |███████████████▊                | 747 kB 9.9 MB/s eta 0:00:01\r\u001b[K     |████████████████                | 757 kB 9.9 MB/s eta 0:00:01\r\u001b[K     |████████████████▏               | 768 kB 9.9 MB/s eta 0:00:01\r\u001b[K     |████████████████▍               | 778 kB 9.9 MB/s eta 0:00:01\r\u001b[K     |████████████████▋               | 788 kB 9.9 MB/s eta 0:00:01\r\u001b[K     |████████████████▉               | 798 kB 9.9 MB/s eta 0:00:01\r\u001b[K     |█████████████████               | 808 kB 9.9 MB/s eta 0:00:01\r\u001b[K     |█████████████████▎              | 819 kB 9.9 MB/s eta 0:00:01\r\u001b[K     |█████████████████▌              | 829 kB 9.9 MB/s eta 0:00:01\r\u001b[K     |█████████████████▊              | 839 kB 9.9 MB/s eta 0:00:01\r\u001b[K     |██████████████████              | 849 kB 9.9 MB/s eta 0:00:01\r\u001b[K     |██████████████████▏             | 860 kB 9.9 MB/s eta 0:00:01\r\u001b[K     |██████████████████▍             | 870 kB 9.9 MB/s eta 0:00:01\r\u001b[K     |██████████████████▋             | 880 kB 9.9 MB/s eta 0:00:01\r\u001b[K     |██████████████████▊             | 890 kB 9.9 MB/s eta 0:00:01\r\u001b[K     |███████████████████             | 901 kB 9.9 MB/s eta 0:00:01\r\u001b[K     |███████████████████▏            | 911 kB 9.9 MB/s eta 0:00:01\r\u001b[K     |███████████████████▍            | 921 kB 9.9 MB/s eta 0:00:01\r\u001b[K     |███████████████████▋            | 931 kB 9.9 MB/s eta 0:00:01\r\u001b[K     |███████████████████▉            | 942 kB 9.9 MB/s eta 0:00:01\r\u001b[K     |████████████████████            | 952 kB 9.9 MB/s eta 0:00:01\r\u001b[K     |████████████████████▎           | 962 kB 9.9 MB/s eta 0:00:01\r\u001b[K     |████████████████████▌           | 972 kB 9.9 MB/s eta 0:00:01\r\u001b[K     |████████████████████▊           | 983 kB 9.9 MB/s eta 0:00:01\r\u001b[K     |█████████████████████           | 993 kB 9.9 MB/s eta 0:00:01\r\u001b[K     |█████████████████████▏          | 1.0 MB 9.9 MB/s eta 0:00:01\r\u001b[K     |█████████████████████▍          | 1.0 MB 9.9 MB/s eta 0:00:01\r\u001b[K     |█████████████████████▋          | 1.0 MB 9.9 MB/s eta 0:00:01\r\u001b[K     |█████████████████████▉          | 1.0 MB 9.9 MB/s eta 0:00:01\r\u001b[K     |██████████████████████          | 1.0 MB 9.9 MB/s eta 0:00:01\r\u001b[K     |██████████████████████▎         | 1.1 MB 9.9 MB/s eta 0:00:01\r\u001b[K     |██████████████████████▍         | 1.1 MB 9.9 MB/s eta 0:00:01\r\u001b[K     |██████████████████████▋         | 1.1 MB 9.9 MB/s eta 0:00:01\r\u001b[K     |██████████████████████▉         | 1.1 MB 9.9 MB/s eta 0:00:01\r\u001b[K     |███████████████████████         | 1.1 MB 9.9 MB/s eta 0:00:01\r\u001b[K     |███████████████████████▎        | 1.1 MB 9.9 MB/s eta 0:00:01\r\u001b[K     |███████████████████████▌        | 1.1 MB 9.9 MB/s eta 0:00:01\r\u001b[K     |███████████████████████▊        | 1.1 MB 9.9 MB/s eta 0:00:01\r\u001b[K     |████████████████████████        | 1.1 MB 9.9 MB/s eta 0:00:01\r\u001b[K     |████████████████████████▏       | 1.1 MB 9.9 MB/s eta 0:00:01\r\u001b[K     |████████████████████████▍       | 1.2 MB 9.9 MB/s eta 0:00:01\r\u001b[K     |████████████████████████▋       | 1.2 MB 9.9 MB/s eta 0:00:01\r\u001b[K     |████████████████████████▉       | 1.2 MB 9.9 MB/s eta 0:00:01\r\u001b[K     |█████████████████████████       | 1.2 MB 9.9 MB/s eta 0:00:01\r\u001b[K     |█████████████████████████▎      | 1.2 MB 9.9 MB/s eta 0:00:01\r\u001b[K     |█████████████████████████▌      | 1.2 MB 9.9 MB/s eta 0:00:01\r\u001b[K     |█████████████████████████▊      | 1.2 MB 9.9 MB/s eta 0:00:01\r\u001b[K     |██████████████████████████      | 1.2 MB 9.9 MB/s eta 0:00:01\r\u001b[K     |██████████████████████████      | 1.2 MB 9.9 MB/s eta 0:00:01\r\u001b[K     |██████████████████████████▎     | 1.2 MB 9.9 MB/s eta 0:00:01\r\u001b[K     |██████████████████████████▌     | 1.3 MB 9.9 MB/s eta 0:00:01\r\u001b[K     |██████████████████████████▊     | 1.3 MB 9.9 MB/s eta 0:00:01\r\u001b[K     |███████████████████████████     | 1.3 MB 9.9 MB/s eta 0:00:01\r\u001b[K     |███████████████████████████▏    | 1.3 MB 9.9 MB/s eta 0:00:01\r\u001b[K     |███████████████████████████▍    | 1.3 MB 9.9 MB/s eta 0:00:01\r\u001b[K     |███████████████████████████▋    | 1.3 MB 9.9 MB/s eta 0:00:01\r\u001b[K     |███████████████████████████▉    | 1.3 MB 9.9 MB/s eta 0:00:01\r\u001b[K     |████████████████████████████    | 1.3 MB 9.9 MB/s eta 0:00:01\r\u001b[K     |████████████████████████████▎   | 1.3 MB 9.9 MB/s eta 0:00:01\r\u001b[K     |████████████████████████████▌   | 1.4 MB 9.9 MB/s eta 0:00:01\r\u001b[K     |████████████████████████████▊   | 1.4 MB 9.9 MB/s eta 0:00:01\r\u001b[K     |█████████████████████████████   | 1.4 MB 9.9 MB/s eta 0:00:01\r\u001b[K     |█████████████████████████████▏  | 1.4 MB 9.9 MB/s eta 0:00:01\r\u001b[K     |█████████████████████████████▍  | 1.4 MB 9.9 MB/s eta 0:00:01\r\u001b[K     |█████████████████████████████▋  | 1.4 MB 9.9 MB/s eta 0:00:01\r\u001b[K     |█████████████████████████████▊  | 1.4 MB 9.9 MB/s eta 0:00:01\r\u001b[K     |██████████████████████████████  | 1.4 MB 9.9 MB/s eta 0:00:01\r\u001b[K     |██████████████████████████████▏ | 1.4 MB 9.9 MB/s eta 0:00:01\r\u001b[K     |██████████████████████████████▍ | 1.4 MB 9.9 MB/s eta 0:00:01\r\u001b[K     |██████████████████████████████▋ | 1.5 MB 9.9 MB/s eta 0:00:01\r\u001b[K     |██████████████████████████████▉ | 1.5 MB 9.9 MB/s eta 0:00:01\r\u001b[K     |███████████████████████████████ | 1.5 MB 9.9 MB/s eta 0:00:01\r\u001b[K     |███████████████████████████████▎| 1.5 MB 9.9 MB/s eta 0:00:01\r\u001b[K     |███████████████████████████████▌| 1.5 MB 9.9 MB/s eta 0:00:01\r\u001b[K     |███████████████████████████████▊| 1.5 MB 9.9 MB/s eta 0:00:01\r\u001b[K     |████████████████████████████████| 1.5 MB 9.9 MB/s eta 0:00:01\r\u001b[K     |████████████████████████████████| 1.5 MB 9.9 MB/s \n",
            "\u001b[?25hRequirement already satisfied: networkx in /usr/local/lib/python3.7/dist-packages (from pm4py) (2.6.3)\n",
            "Requirement already satisfied: pytz in /usr/local/lib/python3.7/dist-packages (from pm4py) (2018.9)\n",
            "Collecting jsonpickle\n",
            "  Downloading jsonpickle-2.0.0-py2.py3-none-any.whl (37 kB)\n",
            "Requirement already satisfied: pandas>=1.1.5 in /usr/local/lib/python3.7/dist-packages (from pm4py) (1.1.5)\n",
            "Requirement already satisfied: tqdm in /usr/local/lib/python3.7/dist-packages (from pm4py) (4.62.3)\n",
            "Requirement already satisfied: matplotlib in /usr/local/lib/python3.7/dist-packages (from pm4py) (3.2.2)\n",
            "Requirement already satisfied: sympy in /usr/local/lib/python3.7/dist-packages (from pm4py) (1.7.1)\n",
            "Collecting stringdist\n",
            "  Downloading StringDist-1.0.9.tar.gz (7.4 kB)\n",
            "Requirement already satisfied: intervaltree in /usr/local/lib/python3.7/dist-packages (from pm4py) (2.1.0)\n",
            "Collecting deprecation\n",
            "  Downloading deprecation-2.1.0-py2.py3-none-any.whl (11 kB)\n",
            "Requirement already satisfied: graphviz in /usr/local/lib/python3.7/dist-packages (from pm4py) (0.10.1)\n",
            "Requirement already satisfied: cvxopt in /usr/local/lib/python3.7/dist-packages (from pm4py) (1.2.7)\n",
            "Requirement already satisfied: lxml in /usr/local/lib/python3.7/dist-packages (from pm4py) (4.2.6)\n",
            "Requirement already satisfied: numpy>=1.19.5 in /usr/local/lib/python3.7/dist-packages (from pm4py) (1.19.5)\n",
            "Requirement already satisfied: scipy in /usr/local/lib/python3.7/dist-packages (from pm4py) (1.4.1)\n",
            "Requirement already satisfied: pydotplus in /usr/local/lib/python3.7/dist-packages (from pm4py) (2.0.2)\n",
            "Collecting pyvis\n",
            "  Downloading pyvis-0.1.9-py3-none-any.whl (23 kB)\n",
            "Collecting pulp<=2.1\n",
            "  Downloading PuLP-2.1-py3-none-any.whl (40.6 MB)\n",
            "\u001b[K     |████████████████████████████████| 40.6 MB 73 kB/s \n",
            "\u001b[?25hRequirement already satisfied: scikit-learn in /usr/local/lib/python3.7/dist-packages (from pm4py) (0.22.2.post1)\n",
            "Requirement already satisfied: python-dateutil>=2.7.3 in /usr/local/lib/python3.7/dist-packages (from pandas>=1.1.5->pm4py) (2.8.2)\n",
            "Requirement already satisfied: pyparsing>=2.0.1 in /usr/local/lib/python3.7/dist-packages (from pulp<=2.1->pm4py) (2.4.7)\n",
            "Requirement already satisfied: six>=1.5 in /usr/local/lib/python3.7/dist-packages (from python-dateutil>=2.7.3->pandas>=1.1.5->pm4py) (1.15.0)\n",
            "Requirement already satisfied: packaging in /usr/local/lib/python3.7/dist-packages (from deprecation->pm4py) (21.0)\n",
            "Requirement already satisfied: sortedcontainers in /usr/local/lib/python3.7/dist-packages (from intervaltree->pm4py) (2.4.0)\n",
            "Requirement already satisfied: importlib-metadata in /usr/local/lib/python3.7/dist-packages (from jsonpickle->pm4py) (4.8.1)\n",
            "Requirement already satisfied: typing-extensions>=3.6.4 in /usr/local/lib/python3.7/dist-packages (from importlib-metadata->jsonpickle->pm4py) (3.7.4.3)\n",
            "Requirement already satisfied: zipp>=0.5 in /usr/local/lib/python3.7/dist-packages (from importlib-metadata->jsonpickle->pm4py) (3.5.0)\n",
            "Requirement already satisfied: kiwisolver>=1.0.1 in /usr/local/lib/python3.7/dist-packages (from matplotlib->pm4py) (1.3.2)\n",
            "Requirement already satisfied: cycler>=0.10 in /usr/local/lib/python3.7/dist-packages (from matplotlib->pm4py) (0.10.0)\n",
            "Requirement already satisfied: ipython>=5.3.0 in /usr/local/lib/python3.7/dist-packages (from pyvis->pm4py) (5.5.0)\n",
            "Requirement already satisfied: jinja2>=2.9.6 in /usr/local/lib/python3.7/dist-packages (from pyvis->pm4py) (2.11.3)\n",
            "Requirement already satisfied: setuptools>=18.5 in /usr/local/lib/python3.7/dist-packages (from ipython>=5.3.0->pyvis->pm4py) (57.4.0)\n",
            "Requirement already satisfied: simplegeneric>0.8 in /usr/local/lib/python3.7/dist-packages (from ipython>=5.3.0->pyvis->pm4py) (0.8.1)\n",
            "Requirement already satisfied: pexpect in /usr/local/lib/python3.7/dist-packages (from ipython>=5.3.0->pyvis->pm4py) (4.8.0)\n",
            "Requirement already satisfied: traitlets>=4.2 in /usr/local/lib/python3.7/dist-packages (from ipython>=5.3.0->pyvis->pm4py) (5.1.0)\n",
            "Requirement already satisfied: prompt-toolkit<2.0.0,>=1.0.4 in /usr/local/lib/python3.7/dist-packages (from ipython>=5.3.0->pyvis->pm4py) (1.0.18)\n",
            "Requirement already satisfied: pygments in /usr/local/lib/python3.7/dist-packages (from ipython>=5.3.0->pyvis->pm4py) (2.6.1)\n",
            "Requirement already satisfied: pickleshare in /usr/local/lib/python3.7/dist-packages (from ipython>=5.3.0->pyvis->pm4py) (0.7.5)\n",
            "Requirement already satisfied: decorator in /usr/local/lib/python3.7/dist-packages (from ipython>=5.3.0->pyvis->pm4py) (4.4.2)\n",
            "Requirement already satisfied: MarkupSafe>=0.23 in /usr/local/lib/python3.7/dist-packages (from jinja2>=2.9.6->pyvis->pm4py) (2.0.1)\n",
            "Requirement already satisfied: wcwidth in /usr/local/lib/python3.7/dist-packages (from prompt-toolkit<2.0.0,>=1.0.4->ipython>=5.3.0->pyvis->pm4py) (0.2.5)\n",
            "Requirement already satisfied: ptyprocess>=0.5 in /usr/local/lib/python3.7/dist-packages (from pexpect->ipython>=5.3.0->pyvis->pm4py) (0.7.0)\n",
            "Requirement already satisfied: joblib>=0.11 in /usr/local/lib/python3.7/dist-packages (from scikit-learn->pm4py) (1.0.1)\n",
            "Requirement already satisfied: mpmath>=0.19 in /usr/local/lib/python3.7/dist-packages (from sympy->pm4py) (1.2.1)\n",
            "Building wheels for collected packages: stringdist\n",
            "  Building wheel for stringdist (setup.py) ... \u001b[?25l\u001b[?25hdone\n",
            "  Created wheel for stringdist: filename=StringDist-1.0.9-cp37-cp37m-linux_x86_64.whl size=23592 sha256=7073cd2af8b474281e88097c025764b9cc7eceb8a30647c484a6c35a3bc4466f\n",
            "  Stored in directory: /root/.cache/pip/wheels/d7/9c/d4/63bc3d8931de0980b9e4a724dea290bb40b8b1b2bd6227c8da\n",
            "Successfully built stringdist\n",
            "Installing collected packages: jsonpickle, stringdist, pyvis, pulp, deprecation, pm4py\n",
            "Successfully installed deprecation-2.1.0 jsonpickle-2.0.0 pm4py-2.2.14 pulp-2.1 pyvis-0.1.9 stringdist-1.0.9\n"
          ]
        }
      ]
    },
    {
      "cell_type": "code",
      "metadata": {
        "id": "C5rNgOWjzuKC"
      },
      "source": [
        "events.rename(columns={'datetime': 'time:timestamp', 'case_id': 'case:concept:name', 'label': 'concept:name'}, inplace=True)"
      ],
      "execution_count": null,
      "outputs": []
    },
    {
      "cell_type": "code",
      "metadata": {
        "id": "uhJnPO0Yzvve"
      },
      "source": [
        "from pm4py.algo.filtering.pandas.start_activities import start_activities_filter\n",
        "log_start = start_activities_filter.get_start_activities(events)\n",
        "df_start_activities = start_activities_filter.apply(events, [\"register request\"])"
      ],
      "execution_count": null,
      "outputs": []
    },
    {
      "cell_type": "code",
      "metadata": {
        "colab": {
          "base_uri": "https://localhost:8080/"
        },
        "id": "4u9Ki7DYz0Z_",
        "outputId": "1be59d07-20fd-478b-fc69-fb0d946a889f"
      },
      "source": [
        "print(events)"
      ],
      "execution_count": null,
      "outputs": [
        {
          "output_type": "stream",
          "name": "stdout",
          "text": [
            "   case:concept:name        concept:name            time:timestamp\n",
            "0                  3    register request 2010-12-30 14:32:00+01:00\n",
            "1                  3    examine casually 2010-12-30 15:06:00+01:00\n",
            "2                  3        check ticket 2010-12-30 16:34:00+01:00\n",
            "3                  3              decide 2011-01-06 09:18:00+01:00\n",
            "4                  3  reinitiate request 2011-01-06 12:18:00+01:00\n",
            "5                  3  examine thoroughly 2011-01-06 13:06:00+01:00\n",
            "6                  3        check ticket 2011-01-08 11:43:00+01:00\n",
            "7                  3              decide 2011-01-09 09:55:00+01:00\n",
            "8                  3    pay compensation 2011-01-15 10:45:00+01:00\n",
            "9                  2    register request 2010-12-30 11:32:00+01:00\n",
            "10                 2        check ticket 2010-12-30 12:12:00+01:00\n",
            "11                 2    examine casually 2010-12-30 14:16:00+01:00\n",
            "12                 2              decide 2011-01-05 11:22:00+01:00\n",
            "13                 2    pay compensation 2011-01-08 12:05:00+01:00\n",
            "14                 1    register request 2010-12-30 11:02:00+01:00\n",
            "15                 1  examine thoroughly 2010-12-31 10:06:00+01:00\n",
            "16                 1        check ticket 2011-01-05 15:12:00+01:00\n",
            "17                 1              decide 2011-01-06 11:18:00+01:00\n",
            "18                 1      reject request 2011-01-07 14:24:00+01:00\n",
            "19                 6    register request 2011-01-06 15:02:00+01:00\n",
            "20                 6    examine casually 2011-01-06 16:06:00+01:00\n",
            "21                 6        check ticket 2011-01-07 16:22:00+01:00\n",
            "22                 6              decide 2011-01-07 16:52:00+01:00\n",
            "23                 6    pay compensation 2011-01-16 11:47:00+01:00\n",
            "24                 5    register request 2011-01-06 09:02:00+01:00\n",
            "25                 5    examine casually 2011-01-07 10:16:00+01:00\n",
            "26                 5        check ticket 2011-01-08 11:22:00+01:00\n",
            "27                 5              decide 2011-01-10 13:28:00+01:00\n",
            "28                 5  reinitiate request 2011-01-11 16:18:00+01:00\n",
            "29                 5        check ticket 2011-01-14 14:33:00+01:00\n",
            "30                 5    examine casually 2011-01-16 15:50:00+01:00\n",
            "31                 5              decide 2011-01-19 11:18:00+01:00\n",
            "32                 5  reinitiate request 2011-01-20 12:48:00+01:00\n",
            "33                 5    examine casually 2011-01-21 09:06:00+01:00\n",
            "34                 5        check ticket 2011-01-21 11:34:00+01:00\n",
            "35                 5              decide 2011-01-23 13:12:00+01:00\n",
            "36                 5      reject request 2011-01-24 14:56:00+01:00\n",
            "37                 4    register request 2011-01-06 15:02:00+01:00\n",
            "38                 4        check ticket 2011-01-07 12:06:00+01:00\n",
            "39                 4  examine thoroughly 2011-01-08 14:43:00+01:00\n",
            "40                 4              decide 2011-01-09 12:02:00+01:00\n",
            "41                 4      reject request 2011-01-12 15:44:00+01:00\n"
          ]
        }
      ]
    },
    {
      "cell_type": "code",
      "metadata": {
        "colab": {
          "base_uri": "https://localhost:8080/",
          "height": 1000
        },
        "id": "t6qnBpQ6z5Sf",
        "outputId": "bb1e43da-2130-428d-e8ca-e914581c0471"
      },
      "source": [
        "df_start_activities"
      ],
      "execution_count": null,
      "outputs": [
        {
          "output_type": "execute_result",
          "data": {
            "text/html": [
              "<div>\n",
              "<style scoped>\n",
              "    .dataframe tbody tr th:only-of-type {\n",
              "        vertical-align: middle;\n",
              "    }\n",
              "\n",
              "    .dataframe tbody tr th {\n",
              "        vertical-align: top;\n",
              "    }\n",
              "\n",
              "    .dataframe thead th {\n",
              "        text-align: right;\n",
              "    }\n",
              "</style>\n",
              "<table border=\"1\" class=\"dataframe\">\n",
              "  <thead>\n",
              "    <tr style=\"text-align: right;\">\n",
              "      <th></th>\n",
              "      <th>case:concept:name</th>\n",
              "      <th>concept:name</th>\n",
              "      <th>time:timestamp</th>\n",
              "    </tr>\n",
              "  </thead>\n",
              "  <tbody>\n",
              "    <tr>\n",
              "      <th>0</th>\n",
              "      <td>3</td>\n",
              "      <td>register request</td>\n",
              "      <td>2010-12-30 14:32:00+01:00</td>\n",
              "    </tr>\n",
              "    <tr>\n",
              "      <th>1</th>\n",
              "      <td>3</td>\n",
              "      <td>examine casually</td>\n",
              "      <td>2010-12-30 15:06:00+01:00</td>\n",
              "    </tr>\n",
              "    <tr>\n",
              "      <th>2</th>\n",
              "      <td>3</td>\n",
              "      <td>check ticket</td>\n",
              "      <td>2010-12-30 16:34:00+01:00</td>\n",
              "    </tr>\n",
              "    <tr>\n",
              "      <th>3</th>\n",
              "      <td>3</td>\n",
              "      <td>decide</td>\n",
              "      <td>2011-01-06 09:18:00+01:00</td>\n",
              "    </tr>\n",
              "    <tr>\n",
              "      <th>4</th>\n",
              "      <td>3</td>\n",
              "      <td>reinitiate request</td>\n",
              "      <td>2011-01-06 12:18:00+01:00</td>\n",
              "    </tr>\n",
              "    <tr>\n",
              "      <th>5</th>\n",
              "      <td>3</td>\n",
              "      <td>examine thoroughly</td>\n",
              "      <td>2011-01-06 13:06:00+01:00</td>\n",
              "    </tr>\n",
              "    <tr>\n",
              "      <th>6</th>\n",
              "      <td>3</td>\n",
              "      <td>check ticket</td>\n",
              "      <td>2011-01-08 11:43:00+01:00</td>\n",
              "    </tr>\n",
              "    <tr>\n",
              "      <th>7</th>\n",
              "      <td>3</td>\n",
              "      <td>decide</td>\n",
              "      <td>2011-01-09 09:55:00+01:00</td>\n",
              "    </tr>\n",
              "    <tr>\n",
              "      <th>8</th>\n",
              "      <td>3</td>\n",
              "      <td>pay compensation</td>\n",
              "      <td>2011-01-15 10:45:00+01:00</td>\n",
              "    </tr>\n",
              "    <tr>\n",
              "      <th>9</th>\n",
              "      <td>2</td>\n",
              "      <td>register request</td>\n",
              "      <td>2010-12-30 11:32:00+01:00</td>\n",
              "    </tr>\n",
              "    <tr>\n",
              "      <th>10</th>\n",
              "      <td>2</td>\n",
              "      <td>check ticket</td>\n",
              "      <td>2010-12-30 12:12:00+01:00</td>\n",
              "    </tr>\n",
              "    <tr>\n",
              "      <th>11</th>\n",
              "      <td>2</td>\n",
              "      <td>examine casually</td>\n",
              "      <td>2010-12-30 14:16:00+01:00</td>\n",
              "    </tr>\n",
              "    <tr>\n",
              "      <th>12</th>\n",
              "      <td>2</td>\n",
              "      <td>decide</td>\n",
              "      <td>2011-01-05 11:22:00+01:00</td>\n",
              "    </tr>\n",
              "    <tr>\n",
              "      <th>13</th>\n",
              "      <td>2</td>\n",
              "      <td>pay compensation</td>\n",
              "      <td>2011-01-08 12:05:00+01:00</td>\n",
              "    </tr>\n",
              "    <tr>\n",
              "      <th>14</th>\n",
              "      <td>1</td>\n",
              "      <td>register request</td>\n",
              "      <td>2010-12-30 11:02:00+01:00</td>\n",
              "    </tr>\n",
              "    <tr>\n",
              "      <th>15</th>\n",
              "      <td>1</td>\n",
              "      <td>examine thoroughly</td>\n",
              "      <td>2010-12-31 10:06:00+01:00</td>\n",
              "    </tr>\n",
              "    <tr>\n",
              "      <th>16</th>\n",
              "      <td>1</td>\n",
              "      <td>check ticket</td>\n",
              "      <td>2011-01-05 15:12:00+01:00</td>\n",
              "    </tr>\n",
              "    <tr>\n",
              "      <th>17</th>\n",
              "      <td>1</td>\n",
              "      <td>decide</td>\n",
              "      <td>2011-01-06 11:18:00+01:00</td>\n",
              "    </tr>\n",
              "    <tr>\n",
              "      <th>18</th>\n",
              "      <td>1</td>\n",
              "      <td>reject request</td>\n",
              "      <td>2011-01-07 14:24:00+01:00</td>\n",
              "    </tr>\n",
              "    <tr>\n",
              "      <th>19</th>\n",
              "      <td>6</td>\n",
              "      <td>register request</td>\n",
              "      <td>2011-01-06 15:02:00+01:00</td>\n",
              "    </tr>\n",
              "    <tr>\n",
              "      <th>20</th>\n",
              "      <td>6</td>\n",
              "      <td>examine casually</td>\n",
              "      <td>2011-01-06 16:06:00+01:00</td>\n",
              "    </tr>\n",
              "    <tr>\n",
              "      <th>21</th>\n",
              "      <td>6</td>\n",
              "      <td>check ticket</td>\n",
              "      <td>2011-01-07 16:22:00+01:00</td>\n",
              "    </tr>\n",
              "    <tr>\n",
              "      <th>22</th>\n",
              "      <td>6</td>\n",
              "      <td>decide</td>\n",
              "      <td>2011-01-07 16:52:00+01:00</td>\n",
              "    </tr>\n",
              "    <tr>\n",
              "      <th>23</th>\n",
              "      <td>6</td>\n",
              "      <td>pay compensation</td>\n",
              "      <td>2011-01-16 11:47:00+01:00</td>\n",
              "    </tr>\n",
              "    <tr>\n",
              "      <th>24</th>\n",
              "      <td>5</td>\n",
              "      <td>register request</td>\n",
              "      <td>2011-01-06 09:02:00+01:00</td>\n",
              "    </tr>\n",
              "    <tr>\n",
              "      <th>25</th>\n",
              "      <td>5</td>\n",
              "      <td>examine casually</td>\n",
              "      <td>2011-01-07 10:16:00+01:00</td>\n",
              "    </tr>\n",
              "    <tr>\n",
              "      <th>26</th>\n",
              "      <td>5</td>\n",
              "      <td>check ticket</td>\n",
              "      <td>2011-01-08 11:22:00+01:00</td>\n",
              "    </tr>\n",
              "    <tr>\n",
              "      <th>27</th>\n",
              "      <td>5</td>\n",
              "      <td>decide</td>\n",
              "      <td>2011-01-10 13:28:00+01:00</td>\n",
              "    </tr>\n",
              "    <tr>\n",
              "      <th>28</th>\n",
              "      <td>5</td>\n",
              "      <td>reinitiate request</td>\n",
              "      <td>2011-01-11 16:18:00+01:00</td>\n",
              "    </tr>\n",
              "    <tr>\n",
              "      <th>29</th>\n",
              "      <td>5</td>\n",
              "      <td>check ticket</td>\n",
              "      <td>2011-01-14 14:33:00+01:00</td>\n",
              "    </tr>\n",
              "    <tr>\n",
              "      <th>30</th>\n",
              "      <td>5</td>\n",
              "      <td>examine casually</td>\n",
              "      <td>2011-01-16 15:50:00+01:00</td>\n",
              "    </tr>\n",
              "    <tr>\n",
              "      <th>31</th>\n",
              "      <td>5</td>\n",
              "      <td>decide</td>\n",
              "      <td>2011-01-19 11:18:00+01:00</td>\n",
              "    </tr>\n",
              "    <tr>\n",
              "      <th>32</th>\n",
              "      <td>5</td>\n",
              "      <td>reinitiate request</td>\n",
              "      <td>2011-01-20 12:48:00+01:00</td>\n",
              "    </tr>\n",
              "    <tr>\n",
              "      <th>33</th>\n",
              "      <td>5</td>\n",
              "      <td>examine casually</td>\n",
              "      <td>2011-01-21 09:06:00+01:00</td>\n",
              "    </tr>\n",
              "    <tr>\n",
              "      <th>34</th>\n",
              "      <td>5</td>\n",
              "      <td>check ticket</td>\n",
              "      <td>2011-01-21 11:34:00+01:00</td>\n",
              "    </tr>\n",
              "    <tr>\n",
              "      <th>35</th>\n",
              "      <td>5</td>\n",
              "      <td>decide</td>\n",
              "      <td>2011-01-23 13:12:00+01:00</td>\n",
              "    </tr>\n",
              "    <tr>\n",
              "      <th>36</th>\n",
              "      <td>5</td>\n",
              "      <td>reject request</td>\n",
              "      <td>2011-01-24 14:56:00+01:00</td>\n",
              "    </tr>\n",
              "    <tr>\n",
              "      <th>37</th>\n",
              "      <td>4</td>\n",
              "      <td>register request</td>\n",
              "      <td>2011-01-06 15:02:00+01:00</td>\n",
              "    </tr>\n",
              "    <tr>\n",
              "      <th>38</th>\n",
              "      <td>4</td>\n",
              "      <td>check ticket</td>\n",
              "      <td>2011-01-07 12:06:00+01:00</td>\n",
              "    </tr>\n",
              "    <tr>\n",
              "      <th>39</th>\n",
              "      <td>4</td>\n",
              "      <td>examine thoroughly</td>\n",
              "      <td>2011-01-08 14:43:00+01:00</td>\n",
              "    </tr>\n",
              "    <tr>\n",
              "      <th>40</th>\n",
              "      <td>4</td>\n",
              "      <td>decide</td>\n",
              "      <td>2011-01-09 12:02:00+01:00</td>\n",
              "    </tr>\n",
              "    <tr>\n",
              "      <th>41</th>\n",
              "      <td>4</td>\n",
              "      <td>reject request</td>\n",
              "      <td>2011-01-12 15:44:00+01:00</td>\n",
              "    </tr>\n",
              "  </tbody>\n",
              "</table>\n",
              "</div>"
            ],
            "text/plain": [
              "   case:concept:name        concept:name            time:timestamp\n",
              "0                  3    register request 2010-12-30 14:32:00+01:00\n",
              "1                  3    examine casually 2010-12-30 15:06:00+01:00\n",
              "2                  3        check ticket 2010-12-30 16:34:00+01:00\n",
              "3                  3              decide 2011-01-06 09:18:00+01:00\n",
              "4                  3  reinitiate request 2011-01-06 12:18:00+01:00\n",
              "5                  3  examine thoroughly 2011-01-06 13:06:00+01:00\n",
              "6                  3        check ticket 2011-01-08 11:43:00+01:00\n",
              "7                  3              decide 2011-01-09 09:55:00+01:00\n",
              "8                  3    pay compensation 2011-01-15 10:45:00+01:00\n",
              "9                  2    register request 2010-12-30 11:32:00+01:00\n",
              "10                 2        check ticket 2010-12-30 12:12:00+01:00\n",
              "11                 2    examine casually 2010-12-30 14:16:00+01:00\n",
              "12                 2              decide 2011-01-05 11:22:00+01:00\n",
              "13                 2    pay compensation 2011-01-08 12:05:00+01:00\n",
              "14                 1    register request 2010-12-30 11:02:00+01:00\n",
              "15                 1  examine thoroughly 2010-12-31 10:06:00+01:00\n",
              "16                 1        check ticket 2011-01-05 15:12:00+01:00\n",
              "17                 1              decide 2011-01-06 11:18:00+01:00\n",
              "18                 1      reject request 2011-01-07 14:24:00+01:00\n",
              "19                 6    register request 2011-01-06 15:02:00+01:00\n",
              "20                 6    examine casually 2011-01-06 16:06:00+01:00\n",
              "21                 6        check ticket 2011-01-07 16:22:00+01:00\n",
              "22                 6              decide 2011-01-07 16:52:00+01:00\n",
              "23                 6    pay compensation 2011-01-16 11:47:00+01:00\n",
              "24                 5    register request 2011-01-06 09:02:00+01:00\n",
              "25                 5    examine casually 2011-01-07 10:16:00+01:00\n",
              "26                 5        check ticket 2011-01-08 11:22:00+01:00\n",
              "27                 5              decide 2011-01-10 13:28:00+01:00\n",
              "28                 5  reinitiate request 2011-01-11 16:18:00+01:00\n",
              "29                 5        check ticket 2011-01-14 14:33:00+01:00\n",
              "30                 5    examine casually 2011-01-16 15:50:00+01:00\n",
              "31                 5              decide 2011-01-19 11:18:00+01:00\n",
              "32                 5  reinitiate request 2011-01-20 12:48:00+01:00\n",
              "33                 5    examine casually 2011-01-21 09:06:00+01:00\n",
              "34                 5        check ticket 2011-01-21 11:34:00+01:00\n",
              "35                 5              decide 2011-01-23 13:12:00+01:00\n",
              "36                 5      reject request 2011-01-24 14:56:00+01:00\n",
              "37                 4    register request 2011-01-06 15:02:00+01:00\n",
              "38                 4        check ticket 2011-01-07 12:06:00+01:00\n",
              "39                 4  examine thoroughly 2011-01-08 14:43:00+01:00\n",
              "40                 4              decide 2011-01-09 12:02:00+01:00\n",
              "41                 4      reject request 2011-01-12 15:44:00+01:00"
            ]
          },
          "metadata": {},
          "execution_count": 22
        }
      ]
    },
    {
      "cell_type": "code",
      "metadata": {
        "id": "dwjPuKi00I4w"
      },
      "source": [
        "from pm4py.algo.filtering.pandas.end_activities import end_activities_filter\n",
        "end_activities = end_activities_filter.get_end_activities(df_start_activities)\n",
        "filtered_df = end_activities_filter.apply(df_start_activities, [\"pay compensation\"])"
      ],
      "execution_count": null,
      "outputs": []
    },
    {
      "cell_type": "code",
      "metadata": {
        "colab": {
          "base_uri": "https://localhost:8080/",
          "height": 645
        },
        "id": "XcJUN7-A0KIj",
        "outputId": "b8a0217f-1bf6-49b1-844f-7663c615e099"
      },
      "source": [
        "filtered_df"
      ],
      "execution_count": null,
      "outputs": [
        {
          "output_type": "execute_result",
          "data": {
            "text/html": [
              "<div>\n",
              "<style scoped>\n",
              "    .dataframe tbody tr th:only-of-type {\n",
              "        vertical-align: middle;\n",
              "    }\n",
              "\n",
              "    .dataframe tbody tr th {\n",
              "        vertical-align: top;\n",
              "    }\n",
              "\n",
              "    .dataframe thead th {\n",
              "        text-align: right;\n",
              "    }\n",
              "</style>\n",
              "<table border=\"1\" class=\"dataframe\">\n",
              "  <thead>\n",
              "    <tr style=\"text-align: right;\">\n",
              "      <th></th>\n",
              "      <th>case:concept:name</th>\n",
              "      <th>concept:name</th>\n",
              "      <th>time:timestamp</th>\n",
              "    </tr>\n",
              "  </thead>\n",
              "  <tbody>\n",
              "    <tr>\n",
              "      <th>0</th>\n",
              "      <td>3</td>\n",
              "      <td>register request</td>\n",
              "      <td>2010-12-30 14:32:00+01:00</td>\n",
              "    </tr>\n",
              "    <tr>\n",
              "      <th>1</th>\n",
              "      <td>3</td>\n",
              "      <td>examine casually</td>\n",
              "      <td>2010-12-30 15:06:00+01:00</td>\n",
              "    </tr>\n",
              "    <tr>\n",
              "      <th>2</th>\n",
              "      <td>3</td>\n",
              "      <td>check ticket</td>\n",
              "      <td>2010-12-30 16:34:00+01:00</td>\n",
              "    </tr>\n",
              "    <tr>\n",
              "      <th>3</th>\n",
              "      <td>3</td>\n",
              "      <td>decide</td>\n",
              "      <td>2011-01-06 09:18:00+01:00</td>\n",
              "    </tr>\n",
              "    <tr>\n",
              "      <th>4</th>\n",
              "      <td>3</td>\n",
              "      <td>reinitiate request</td>\n",
              "      <td>2011-01-06 12:18:00+01:00</td>\n",
              "    </tr>\n",
              "    <tr>\n",
              "      <th>5</th>\n",
              "      <td>3</td>\n",
              "      <td>examine thoroughly</td>\n",
              "      <td>2011-01-06 13:06:00+01:00</td>\n",
              "    </tr>\n",
              "    <tr>\n",
              "      <th>6</th>\n",
              "      <td>3</td>\n",
              "      <td>check ticket</td>\n",
              "      <td>2011-01-08 11:43:00+01:00</td>\n",
              "    </tr>\n",
              "    <tr>\n",
              "      <th>7</th>\n",
              "      <td>3</td>\n",
              "      <td>decide</td>\n",
              "      <td>2011-01-09 09:55:00+01:00</td>\n",
              "    </tr>\n",
              "    <tr>\n",
              "      <th>8</th>\n",
              "      <td>3</td>\n",
              "      <td>pay compensation</td>\n",
              "      <td>2011-01-15 10:45:00+01:00</td>\n",
              "    </tr>\n",
              "    <tr>\n",
              "      <th>9</th>\n",
              "      <td>2</td>\n",
              "      <td>register request</td>\n",
              "      <td>2010-12-30 11:32:00+01:00</td>\n",
              "    </tr>\n",
              "    <tr>\n",
              "      <th>10</th>\n",
              "      <td>2</td>\n",
              "      <td>check ticket</td>\n",
              "      <td>2010-12-30 12:12:00+01:00</td>\n",
              "    </tr>\n",
              "    <tr>\n",
              "      <th>11</th>\n",
              "      <td>2</td>\n",
              "      <td>examine casually</td>\n",
              "      <td>2010-12-30 14:16:00+01:00</td>\n",
              "    </tr>\n",
              "    <tr>\n",
              "      <th>12</th>\n",
              "      <td>2</td>\n",
              "      <td>decide</td>\n",
              "      <td>2011-01-05 11:22:00+01:00</td>\n",
              "    </tr>\n",
              "    <tr>\n",
              "      <th>13</th>\n",
              "      <td>2</td>\n",
              "      <td>pay compensation</td>\n",
              "      <td>2011-01-08 12:05:00+01:00</td>\n",
              "    </tr>\n",
              "    <tr>\n",
              "      <th>19</th>\n",
              "      <td>6</td>\n",
              "      <td>register request</td>\n",
              "      <td>2011-01-06 15:02:00+01:00</td>\n",
              "    </tr>\n",
              "    <tr>\n",
              "      <th>20</th>\n",
              "      <td>6</td>\n",
              "      <td>examine casually</td>\n",
              "      <td>2011-01-06 16:06:00+01:00</td>\n",
              "    </tr>\n",
              "    <tr>\n",
              "      <th>21</th>\n",
              "      <td>6</td>\n",
              "      <td>check ticket</td>\n",
              "      <td>2011-01-07 16:22:00+01:00</td>\n",
              "    </tr>\n",
              "    <tr>\n",
              "      <th>22</th>\n",
              "      <td>6</td>\n",
              "      <td>decide</td>\n",
              "      <td>2011-01-07 16:52:00+01:00</td>\n",
              "    </tr>\n",
              "    <tr>\n",
              "      <th>23</th>\n",
              "      <td>6</td>\n",
              "      <td>pay compensation</td>\n",
              "      <td>2011-01-16 11:47:00+01:00</td>\n",
              "    </tr>\n",
              "  </tbody>\n",
              "</table>\n",
              "</div>"
            ],
            "text/plain": [
              "   case:concept:name        concept:name            time:timestamp\n",
              "0                  3    register request 2010-12-30 14:32:00+01:00\n",
              "1                  3    examine casually 2010-12-30 15:06:00+01:00\n",
              "2                  3        check ticket 2010-12-30 16:34:00+01:00\n",
              "3                  3              decide 2011-01-06 09:18:00+01:00\n",
              "4                  3  reinitiate request 2011-01-06 12:18:00+01:00\n",
              "5                  3  examine thoroughly 2011-01-06 13:06:00+01:00\n",
              "6                  3        check ticket 2011-01-08 11:43:00+01:00\n",
              "7                  3              decide 2011-01-09 09:55:00+01:00\n",
              "8                  3    pay compensation 2011-01-15 10:45:00+01:00\n",
              "9                  2    register request 2010-12-30 11:32:00+01:00\n",
              "10                 2        check ticket 2010-12-30 12:12:00+01:00\n",
              "11                 2    examine casually 2010-12-30 14:16:00+01:00\n",
              "12                 2              decide 2011-01-05 11:22:00+01:00\n",
              "13                 2    pay compensation 2011-01-08 12:05:00+01:00\n",
              "19                 6    register request 2011-01-06 15:02:00+01:00\n",
              "20                 6    examine casually 2011-01-06 16:06:00+01:00\n",
              "21                 6        check ticket 2011-01-07 16:22:00+01:00\n",
              "22                 6              decide 2011-01-07 16:52:00+01:00\n",
              "23                 6    pay compensation 2011-01-16 11:47:00+01:00"
            ]
          },
          "metadata": {},
          "execution_count": 24
        }
      ]
    },
    {
      "cell_type": "code",
      "metadata": {
        "id": "IzphmyTH0YTm"
      },
      "source": [
        "from pm4py.statistics.traces.generic.pandas import case_statistics\n",
        "variants_count = case_statistics.get_variant_statistics(filtered_df)\n",
        "variants_count = sorted(variants_count, key=lambda x: x['case:concept:name'], reverse=True)"
      ],
      "execution_count": null,
      "outputs": []
    },
    {
      "cell_type": "code",
      "metadata": {
        "colab": {
          "base_uri": "https://localhost:8080/"
        },
        "id": "TFu5EXea0cfi",
        "outputId": "c604e402-8308-486a-f3c5-63f817643714"
      },
      "source": [
        "variants_count"
      ],
      "execution_count": null,
      "outputs": [
        {
          "output_type": "execute_result",
          "data": {
            "text/plain": [
              "[{'case:concept:name': 1,\n",
              "  'variant': 'register request,examine casually,check ticket,decide,reinitiate request,examine thoroughly,check ticket,decide,pay compensation'},\n",
              " {'case:concept:name': 1,\n",
              "  'variant': 'register request,examine casually,check ticket,decide,pay compensation'},\n",
              " {'case:concept:name': 1,\n",
              "  'variant': 'register request,check ticket,examine casually,decide,pay compensation'}]"
            ]
          },
          "metadata": {},
          "execution_count": 26
        }
      ]
    },
    {
      "cell_type": "code",
      "metadata": {
        "id": "G5iyB4Li1oYG"
      },
      "source": [
        "df = pd.DataFrame(variants_count)"
      ],
      "execution_count": null,
      "outputs": []
    },
    {
      "cell_type": "code",
      "metadata": {
        "colab": {
          "base_uri": "https://localhost:8080/",
          "height": 143
        },
        "id": "riCTnbJV1prb",
        "outputId": "2c80d3e4-a234-483d-c796-d856fa12824b"
      },
      "source": [
        "df"
      ],
      "execution_count": null,
      "outputs": [
        {
          "output_type": "execute_result",
          "data": {
            "text/html": [
              "<div>\n",
              "<style scoped>\n",
              "    .dataframe tbody tr th:only-of-type {\n",
              "        vertical-align: middle;\n",
              "    }\n",
              "\n",
              "    .dataframe tbody tr th {\n",
              "        vertical-align: top;\n",
              "    }\n",
              "\n",
              "    .dataframe thead th {\n",
              "        text-align: right;\n",
              "    }\n",
              "</style>\n",
              "<table border=\"1\" class=\"dataframe\">\n",
              "  <thead>\n",
              "    <tr style=\"text-align: right;\">\n",
              "      <th></th>\n",
              "      <th>variant</th>\n",
              "      <th>case:concept:name</th>\n",
              "    </tr>\n",
              "  </thead>\n",
              "  <tbody>\n",
              "    <tr>\n",
              "      <th>0</th>\n",
              "      <td>register request,examine casually,check ticket...</td>\n",
              "      <td>1</td>\n",
              "    </tr>\n",
              "    <tr>\n",
              "      <th>1</th>\n",
              "      <td>register request,examine casually,check ticket...</td>\n",
              "      <td>1</td>\n",
              "    </tr>\n",
              "    <tr>\n",
              "      <th>2</th>\n",
              "      <td>register request,check ticket,examine casually...</td>\n",
              "      <td>1</td>\n",
              "    </tr>\n",
              "  </tbody>\n",
              "</table>\n",
              "</div>"
            ],
            "text/plain": [
              "                                             variant  case:concept:name\n",
              "0  register request,examine casually,check ticket...                  1\n",
              "1  register request,examine casually,check ticket...                  1\n",
              "2  register request,check ticket,examine casually...                  1"
            ]
          },
          "metadata": {},
          "execution_count": 28
        }
      ]
    },
    {
      "cell_type": "code",
      "metadata": {
        "id": "JtH-EapE1v0x"
      },
      "source": [
        "from pm4py.objects.conversion.log import converter as log_converter\n",
        "\n",
        "# mengkonversi dataset csv kedalam bentuk format log XES\n",
        "log = log_converter.apply(filtered_df)"
      ],
      "execution_count": null,
      "outputs": []
    },
    {
      "cell_type": "code",
      "metadata": {
        "colab": {
          "base_uri": "https://localhost:8080/"
        },
        "id": "KF9qgJHt1xPB",
        "outputId": "39f2571a-432d-4e1b-edde-9ac3551cb4df"
      },
      "source": [
        "log"
      ],
      "execution_count": null,
      "outputs": [
        {
          "output_type": "execute_result",
          "data": {
            "text/plain": [
              "[{'attributes': {'concept:name': '3'}, 'events': [{'concept:name': 'register request', 'time:timestamp': Timestamp('2010-12-30 14:32:00+0100', tz='pytz.FixedOffset(60)')}, '..', {'concept:name': 'pay compensation', 'time:timestamp': Timestamp('2011-01-15 10:45:00+0100', tz='pytz.FixedOffset(60)')}]}, '....', {'attributes': {'concept:name': '6'}, 'events': [{'concept:name': 'register request', 'time:timestamp': Timestamp('2011-01-06 15:02:00+0100', tz='pytz.FixedOffset(60)')}, '..', {'concept:name': 'pay compensation', 'time:timestamp': Timestamp('2011-01-16 11:47:00+0100', tz='pytz.FixedOffset(60)')}]}]"
            ]
          },
          "metadata": {},
          "execution_count": 30
        }
      ]
    },
    {
      "cell_type": "code",
      "metadata": {
        "id": "uY6FkmAyDrV6"
      },
      "source": [
        "from pm4py.algo.discovery.alpha import algorithm as alpha_miner\n",
        "\n",
        "net, initial_marking, final_marking = alpha_miner.apply(log)"
      ],
      "execution_count": 81,
      "outputs": []
    },
    {
      "cell_type": "code",
      "metadata": {
        "colab": {
          "base_uri": "https://localhost:8080/",
          "height": 583
        },
        "id": "9heJ8VYi17fu",
        "outputId": "dd4c3c20-a669-417f-987f-68a96b0ae4d1"
      },
      "source": [
        "# create Alpha_Miner\n",
        "net, initial_marking, final_marking = alpha_miner.apply(log)\n",
        "\n",
        "# viz\n",
        "gviz = pn_visualizer.apply(net, initial_marking, final_marking)\n",
        "Image(pn_visualizer.view(gviz))"
      ],
      "execution_count": 82,
      "outputs": [
        {
          "output_type": "stream",
          "name": "stderr",
          "text": [
            "/usr/local/lib/python3.7/dist-packages/ipykernel_launcher.py:5: DeprecatedWarning: apply is deprecated as of 2.2.5 and will be removed in 3.0.0. please use pm4py.visualization.petri_net.algorithm instead\n",
            "  \"\"\"\n"
          ]
        },
        {
          "output_type": "display_data",
          "data": {
            "image/png": "[encoded data removed]",
            "text/plain": [
              "<IPython.core.display.Image object>"
            ]
          },
          "metadata": {}
        },
        {
          "output_type": "error",
          "ename": "ValueError",
          "evalue": "ignored",
          "traceback": [
            "\u001b[0;31m---------------------------------------------------------------------------\u001b[0m",
            "\u001b[0;31mValueError\u001b[0m                                Traceback (most recent call last)",
            "\u001b[0;32m<ipython-input-82-b8522628303b>\u001b[0m in \u001b[0;36m<module>\u001b[0;34m()\u001b[0m\n\u001b[1;32m      4\u001b[0m \u001b[0;31m# viz\u001b[0m\u001b[0;34m\u001b[0m\u001b[0;34m\u001b[0m\u001b[0;34m\u001b[0m\u001b[0m\n\u001b[1;32m      5\u001b[0m \u001b[0mgviz\u001b[0m \u001b[0;34m=\u001b[0m \u001b[0mpn_visualizer\u001b[0m\u001b[0;34m.\u001b[0m\u001b[0mapply\u001b[0m\u001b[0;34m(\u001b[0m\u001b[0mnet\u001b[0m\u001b[0;34m,\u001b[0m \u001b[0minitial_marking\u001b[0m\u001b[0;34m,\u001b[0m \u001b[0mfinal_marking\u001b[0m\u001b[0;34m)\u001b[0m\u001b[0;34m\u001b[0m\u001b[0;34m\u001b[0m\u001b[0m\n\u001b[0;32m----> 6\u001b[0;31m \u001b[0mImage\u001b[0m\u001b[0;34m(\u001b[0m\u001b[0mpn_visualizer\u001b[0m\u001b[0;34m.\u001b[0m\u001b[0mview\u001b[0m\u001b[0;34m(\u001b[0m\u001b[0mgviz\u001b[0m\u001b[0;34m)\u001b[0m\u001b[0;34m)\u001b[0m\u001b[0;34m\u001b[0m\u001b[0;34m\u001b[0m\u001b[0m\n\u001b[0m",
            "\u001b[0;32m/usr/local/lib/python3.7/dist-packages/IPython/core/display.py\u001b[0m in \u001b[0;36m__init__\u001b[0;34m(self, data, url, filename, format, embed, width, height, retina, unconfined, metadata)\u001b[0m\n\u001b[1;32m    979\u001b[0m             \u001b[0mext\u001b[0m \u001b[0;34m=\u001b[0m \u001b[0mself\u001b[0m\u001b[0;34m.\u001b[0m\u001b[0m_find_ext\u001b[0m\u001b[0;34m(\u001b[0m\u001b[0murl\u001b[0m\u001b[0;34m)\u001b[0m\u001b[0;34m\u001b[0m\u001b[0;34m\u001b[0m\u001b[0m\n\u001b[1;32m    980\u001b[0m         \u001b[0;32melif\u001b[0m \u001b[0mdata\u001b[0m \u001b[0;32mis\u001b[0m \u001b[0;32mNone\u001b[0m\u001b[0;34m:\u001b[0m\u001b[0;34m\u001b[0m\u001b[0;34m\u001b[0m\u001b[0m\n\u001b[0;32m--> 981\u001b[0;31m             \u001b[0;32mraise\u001b[0m \u001b[0mValueError\u001b[0m\u001b[0;34m(\u001b[0m\u001b[0;34m\"No image data found. Expecting filename, url, or data.\"\u001b[0m\u001b[0;34m)\u001b[0m\u001b[0;34m\u001b[0m\u001b[0;34m\u001b[0m\u001b[0m\n\u001b[0m\u001b[1;32m    982\u001b[0m         elif isinstance(data, string_types) and (\n\u001b[1;32m    983\u001b[0m             \u001b[0mdata\u001b[0m\u001b[0;34m.\u001b[0m\u001b[0mstartswith\u001b[0m\u001b[0;34m(\u001b[0m\u001b[0;34m'http'\u001b[0m\u001b[0;34m)\u001b[0m \u001b[0;32mor\u001b[0m \u001b[0m_safe_exists\u001b[0m\u001b[0;34m(\u001b[0m\u001b[0mdata\u001b[0m\u001b[0;34m)\u001b[0m\u001b[0;34m\u001b[0m\u001b[0;34m\u001b[0m\u001b[0m\n",
            "\u001b[0;31mValueError\u001b[0m: No image data found. Expecting filename, url, or data."
          ]
        }
      ]
    },
    {
      "cell_type": "code",
      "metadata": {
        "id": "4pwHCkZCEcqn"
      },
      "source": [
        "from pm4py.algo.discovery.inductive import algorithm as inductive_miner\n",
        "\n",
        "net, initial_marking, final_marking = inductive_miner.apply(log)"
      ],
      "execution_count": 79,
      "outputs": []
    },
    {
      "cell_type": "code",
      "metadata": {
        "colab": {
          "base_uri": "https://localhost:8080/",
          "height": 568
        },
        "id": "cPb6cpu74rLP",
        "outputId": "e0052107-043f-48cf-890d-2c423f400e9c"
      },
      "source": [
        "# create the Inductive_miner\n",
        "tree = inductive_miner.apply(log)\n",
        "\n",
        "# viz\n",
        "gviz = pn_visualizer.apply(net, initial_marking, final_marking)\n",
        "Image(pn_visualizer.view(gviz))"
      ],
      "execution_count": 80,
      "outputs": [
        {
          "output_type": "stream",
          "name": "stderr",
          "text": [
            "/usr/local/lib/python3.7/dist-packages/ipykernel_launcher.py:5: DeprecatedWarning: apply is deprecated as of 2.2.5 and will be removed in 3.0.0. please use pm4py.visualization.petri_net.algorithm instead\n",
            "  \"\"\"\n"
          ]
        },
        {
          "output_type": "display_data",
          "data": {
            "image/png": "[encoded data removed]",
            "text/plain": [
              "<IPython.core.display.Image object>"
            ]
          },
          "metadata": {}
        },
        {
          "output_type": "error",
          "ename": "ValueError",
          "evalue": "ignored",
          "traceback": [
            "\u001b[0;31m---------------------------------------------------------------------------\u001b[0m",
            "\u001b[0;31mValueError\u001b[0m                                Traceback (most recent call last)",
            "\u001b[0;32m<ipython-input-80-1558896c43e4>\u001b[0m in \u001b[0;36m<module>\u001b[0;34m()\u001b[0m\n\u001b[1;32m      4\u001b[0m \u001b[0;31m# viz\u001b[0m\u001b[0;34m\u001b[0m\u001b[0;34m\u001b[0m\u001b[0;34m\u001b[0m\u001b[0m\n\u001b[1;32m      5\u001b[0m \u001b[0mgviz\u001b[0m \u001b[0;34m=\u001b[0m \u001b[0mpn_visualizer\u001b[0m\u001b[0;34m.\u001b[0m\u001b[0mapply\u001b[0m\u001b[0;34m(\u001b[0m\u001b[0mnet\u001b[0m\u001b[0;34m,\u001b[0m \u001b[0minitial_marking\u001b[0m\u001b[0;34m,\u001b[0m \u001b[0mfinal_marking\u001b[0m\u001b[0;34m)\u001b[0m\u001b[0;34m\u001b[0m\u001b[0;34m\u001b[0m\u001b[0m\n\u001b[0;32m----> 6\u001b[0;31m \u001b[0mImage\u001b[0m\u001b[0;34m(\u001b[0m\u001b[0mpn_visualizer\u001b[0m\u001b[0;34m.\u001b[0m\u001b[0mview\u001b[0m\u001b[0;34m(\u001b[0m\u001b[0mgviz\u001b[0m\u001b[0;34m)\u001b[0m\u001b[0;34m)\u001b[0m\u001b[0;34m\u001b[0m\u001b[0;34m\u001b[0m\u001b[0m\n\u001b[0m",
            "\u001b[0;32m/usr/local/lib/python3.7/dist-packages/IPython/core/display.py\u001b[0m in \u001b[0;36m__init__\u001b[0;34m(self, data, url, filename, format, embed, width, height, retina, unconfined, metadata)\u001b[0m\n\u001b[1;32m    979\u001b[0m             \u001b[0mext\u001b[0m \u001b[0;34m=\u001b[0m \u001b[0mself\u001b[0m\u001b[0;34m.\u001b[0m\u001b[0m_find_ext\u001b[0m\u001b[0;34m(\u001b[0m\u001b[0murl\u001b[0m\u001b[0;34m)\u001b[0m\u001b[0;34m\u001b[0m\u001b[0;34m\u001b[0m\u001b[0m\n\u001b[1;32m    980\u001b[0m         \u001b[0;32melif\u001b[0m \u001b[0mdata\u001b[0m \u001b[0;32mis\u001b[0m \u001b[0;32mNone\u001b[0m\u001b[0;34m:\u001b[0m\u001b[0;34m\u001b[0m\u001b[0;34m\u001b[0m\u001b[0m\n\u001b[0;32m--> 981\u001b[0;31m             \u001b[0;32mraise\u001b[0m \u001b[0mValueError\u001b[0m\u001b[0;34m(\u001b[0m\u001b[0;34m\"No image data found. Expecting filename, url, or data.\"\u001b[0m\u001b[0;34m)\u001b[0m\u001b[0;34m\u001b[0m\u001b[0;34m\u001b[0m\u001b[0m\n\u001b[0m\u001b[1;32m    982\u001b[0m         elif isinstance(data, string_types) and (\n\u001b[1;32m    983\u001b[0m             \u001b[0mdata\u001b[0m\u001b[0;34m.\u001b[0m\u001b[0mstartswith\u001b[0m\u001b[0;34m(\u001b[0m\u001b[0;34m'http'\u001b[0m\u001b[0;34m)\u001b[0m \u001b[0;32mor\u001b[0m \u001b[0m_safe_exists\u001b[0m\u001b[0;34m(\u001b[0m\u001b[0mdata\u001b[0m\u001b[0;34m)\u001b[0m\u001b[0;34m\u001b[0m\u001b[0;34m\u001b[0m\u001b[0m\n",
            "\u001b[0;31mValueError\u001b[0m: No image data found. Expecting filename, url, or data."
          ]
        }
      ]
    },
    {
      "cell_type": "code",
      "metadata": {
        "colab": {
          "base_uri": "https://localhost:8080/",
          "height": 848,
          "referenced_widgets": [
            "5006bae760ad489aa13552c9c2163e69",
            "c0c8912284294430aa8dff2d869ba508",
            "1d2c53f7f0bf484e82e612ccf12aaebc",
            "ac5b497325064954b09a1b18d0e59a96",
            "0d6d1d9f51824ca2be8c4d7a1cb784c2",
            "b5e891afd07245318a356992ae483c39",
            "3637cc85a2644ec98e8040cea0386ffd",
            "9538b3d842ef4f09898c2eb8d72383be",
            "d5fd0aea25764e4985676348e1534c85",
            "26747830ba20461dba198e0ef479b2ba",
            "be22d40e4cab47d9a1470f4b1198f2ee"
          ]
        },
        "id": "POOtDLgY2GkS",
        "outputId": "dc6def61-54dc-4d7d-e8b4-28f67c23057e"
      },
      "source": [
        "from pm4py.algo.conformance.tokenreplay import algorithm as token_replay\n",
        "replayed_traces = token_replay.apply(log, net, initial_marking, final_marking)\n",
        "replayed_traces"
      ],
      "execution_count": null,
      "outputs": [
        {
          "output_type": "display_data",
          "data": {
            "application/vnd.jupyter.widget-view+json": {
              "model_id": "5006bae760ad489aa13552c9c2163e69",
              "version_minor": 0,
              "version_major": 2
            },
            "text/plain": [
              "replaying log with TBR, completed variants ::   0%|          | 0/3 [00:00<?, ?it/s]"
            ]
          },
          "metadata": {}
        },
        {
          "output_type": "execute_result",
          "data": {
            "text/plain": [
              "[{'activated_transitions': [register request,\n",
              "   examine casually,\n",
              "   check ticket,\n",
              "   decide,\n",
              "   reinitiate request,\n",
              "   examine thoroughly,\n",
              "   check ticket,\n",
              "   decide,\n",
              "   pay compensation],\n",
              "  'consumed_tokens': 12,\n",
              "  'enabled_transitions_in_marking': set(),\n",
              "  'missing_tokens': 1,\n",
              "  'produced_tokens': 11,\n",
              "  'reached_marking': Marking({end: 1}),\n",
              "  'remaining_tokens': 0,\n",
              "  'trace_fitness': 0.9583333333333333,\n",
              "  'trace_is_fit': False,\n",
              "  'transitions_with_problems': [decide]},\n",
              " {'activated_transitions': [register request,\n",
              "   check ticket,\n",
              "   examine casually,\n",
              "   decide,\n",
              "   pay compensation],\n",
              "  'consumed_tokens': 7,\n",
              "  'enabled_transitions_in_marking': set(),\n",
              "  'missing_tokens': 0,\n",
              "  'produced_tokens': 7,\n",
              "  'reached_marking': Marking({end: 1}),\n",
              "  'remaining_tokens': 0,\n",
              "  'trace_fitness': 1.0,\n",
              "  'trace_is_fit': True,\n",
              "  'transitions_with_problems': []},\n",
              " {'activated_transitions': [register request,\n",
              "   examine casually,\n",
              "   check ticket,\n",
              "   decide,\n",
              "   pay compensation],\n",
              "  'consumed_tokens': 7,\n",
              "  'enabled_transitions_in_marking': set(),\n",
              "  'missing_tokens': 0,\n",
              "  'produced_tokens': 7,\n",
              "  'reached_marking': Marking({end: 1}),\n",
              "  'remaining_tokens': 0,\n",
              "  'trace_fitness': 1.0,\n",
              "  'trace_is_fit': True,\n",
              "  'transitions_with_problems': []}]"
            ]
          },
          "metadata": {},
          "execution_count": 33
        }
      ]
    },
    {
      "cell_type": "code",
      "metadata": {
        "id": "2UiZwNEg2H9f"
      },
      "source": [
        "trace = pd.DataFrame(replayed_traces, \n",
        "                     columns=['activated_transitions',\n",
        "                              'produced_tokens',\n",
        "                              'consumed_tokens',\n",
        "                              'remaining_tokens',\n",
        "                              'missing_tokens',\n",
        "                              'trace_fitness',\n",
        "                              'trace_is_fit'\n",
        "                              ]\n",
        "                     )"
      ],
      "execution_count": null,
      "outputs": []
    },
    {
      "cell_type": "code",
      "metadata": {
        "colab": {
          "base_uri": "https://localhost:8080/",
          "height": 143
        },
        "id": "Zp5ghgy32R-1",
        "outputId": "925d6ebb-1b84-4482-83f2-0fe0d34f8101"
      },
      "source": [
        "trace"
      ],
      "execution_count": null,
      "outputs": [
        {
          "output_type": "execute_result",
          "data": {
            "text/html": [
              "<div>\n",
              "<style scoped>\n",
              "    .dataframe tbody tr th:only-of-type {\n",
              "        vertical-align: middle;\n",
              "    }\n",
              "\n",
              "    .dataframe tbody tr th {\n",
              "        vertical-align: top;\n",
              "    }\n",
              "\n",
              "    .dataframe thead th {\n",
              "        text-align: right;\n",
              "    }\n",
              "</style>\n",
              "<table border=\"1\" class=\"dataframe\">\n",
              "  <thead>\n",
              "    <tr style=\"text-align: right;\">\n",
              "      <th></th>\n",
              "      <th>activated_transitions</th>\n",
              "      <th>produced_tokens</th>\n",
              "      <th>consumed_tokens</th>\n",
              "      <th>remaining_tokens</th>\n",
              "      <th>missing_tokens</th>\n",
              "      <th>trace_fitness</th>\n",
              "      <th>trace_is_fit</th>\n",
              "    </tr>\n",
              "  </thead>\n",
              "  <tbody>\n",
              "    <tr>\n",
              "      <th>0</th>\n",
              "      <td>[register request, examine casually, check tic...</td>\n",
              "      <td>11</td>\n",
              "      <td>12</td>\n",
              "      <td>0</td>\n",
              "      <td>1</td>\n",
              "      <td>0.958333</td>\n",
              "      <td>False</td>\n",
              "    </tr>\n",
              "    <tr>\n",
              "      <th>1</th>\n",
              "      <td>[register request, check ticket, examine casua...</td>\n",
              "      <td>7</td>\n",
              "      <td>7</td>\n",
              "      <td>0</td>\n",
              "      <td>0</td>\n",
              "      <td>1.000000</td>\n",
              "      <td>True</td>\n",
              "    </tr>\n",
              "    <tr>\n",
              "      <th>2</th>\n",
              "      <td>[register request, examine casually, check tic...</td>\n",
              "      <td>7</td>\n",
              "      <td>7</td>\n",
              "      <td>0</td>\n",
              "      <td>0</td>\n",
              "      <td>1.000000</td>\n",
              "      <td>True</td>\n",
              "    </tr>\n",
              "  </tbody>\n",
              "</table>\n",
              "</div>"
            ],
            "text/plain": [
              "                               activated_transitions  ...  trace_is_fit\n",
              "0  [register request, examine casually, check tic...  ...         False\n",
              "1  [register request, check ticket, examine casua...  ...          True\n",
              "2  [register request, examine casually, check tic...  ...          True\n",
              "\n",
              "[3 rows x 7 columns]"
            ]
          },
          "metadata": {},
          "execution_count": 35
        }
      ]
    },
    {
      "cell_type": "code",
      "metadata": {
        "colab": {
          "base_uri": "https://localhost:8080/",
          "height": 118,
          "referenced_widgets": [
            "783db4b92b9f4fe8b0a6b00f5e5d7c2e",
            "064771612e0b4fa28a20b5690792081a",
            "56543e00926f4771b8ef142ca528ae2f",
            "7faea59202c641718ab9259ae2e02c7b",
            "8773bf9d255943659791a9c6b24e711a",
            "ba1ae33b3556447eb2c9752e96a3631a",
            "57acb2d9b95142bf8008104e58a6927d",
            "3cec4292fdaf4840836d76c160f0854c",
            "094146fff1a94d1aa6895b5a412bfba6",
            "4437b0cf6e984acc92f05eebffd6344d",
            "b374ad1faf6d409ab830615bd370b3d5"
          ]
        },
        "id": "2S5iXzku2Ukf",
        "outputId": "9540d34f-759c-4f84-a0b8-97248fea1490"
      },
      "source": [
        "from pm4py.algo.evaluation.replay_fitness import algorithm as replay_fitness_evaluator\n",
        "fitness = replay_fitness_evaluator.apply(log, net, initial_marking, final_marking, variant=replay_fitness_evaluator.Variants.TOKEN_BASED)\n",
        "fitness"
      ],
      "execution_count": null,
      "outputs": [
        {
          "output_type": "display_data",
          "data": {
            "application/vnd.jupyter.widget-view+json": {
              "model_id": "783db4b92b9f4fe8b0a6b00f5e5d7c2e",
              "version_minor": 0,
              "version_major": 2
            },
            "text/plain": [
              "replaying log with TBR, completed variants ::   0%|          | 0/3 [00:00<?, ?it/s]"
            ]
          },
          "metadata": {}
        },
        {
          "output_type": "execute_result",
          "data": {
            "text/plain": [
              "{'average_trace_fitness': 0.986111111111111,\n",
              " 'log_fitness': 0.9807692307692308,\n",
              " 'perc_fit_traces': 66.66666666666667,\n",
              " 'percentage_of_fitting_traces': 66.66666666666667}"
            ]
          },
          "metadata": {},
          "execution_count": 36
        }
      ]
    },
    {
      "cell_type": "code",
      "metadata": {
        "colab": {
          "base_uri": "https://localhost:8080/",
          "height": 513
        },
        "id": "KVdm99Za5Wnm",
        "outputId": "798b9139-9576-4875-dfde-8759242c8557"
      },
      "source": [
        "# heuristics miner\n",
        "net, im, fm = heuristics_miner.apply(log)\n",
        "\n",
        "# viz\n",
        "gviz = pn_visualizer.apply(net, im, fm)\n",
        "Image(pn_visualizer.view(gviz))"
      ],
      "execution_count": null,
      "outputs": [
        {
          "output_type": "display_data",
          "data": {
            "image/png": "[encoded data removed]",
            "text/plain": [
              "<IPython.core.display.Image object>"
            ]
          },
          "metadata": {}
        },
        {
          "output_type": "error",
          "ename": "ValueError",
          "evalue": "ignored",
          "traceback": [
            "\u001b[0;31m---------------------------------------------------------------------------\u001b[0m",
            "\u001b[0;31mValueError\u001b[0m                                Traceback (most recent call last)",
            "\u001b[0;32m<ipython-input-43-e4e3a72d0179>\u001b[0m in \u001b[0;36m<module>\u001b[0;34m()\u001b[0m\n\u001b[1;32m      4\u001b[0m \u001b[0;31m# viz\u001b[0m\u001b[0;34m\u001b[0m\u001b[0;34m\u001b[0m\u001b[0;34m\u001b[0m\u001b[0m\n\u001b[1;32m      5\u001b[0m \u001b[0mgviz\u001b[0m \u001b[0;34m=\u001b[0m \u001b[0mpn_visualizer\u001b[0m\u001b[0;34m.\u001b[0m\u001b[0mapply\u001b[0m\u001b[0;34m(\u001b[0m\u001b[0mnet\u001b[0m\u001b[0;34m,\u001b[0m \u001b[0mim\u001b[0m\u001b[0;34m,\u001b[0m \u001b[0mfm\u001b[0m\u001b[0;34m)\u001b[0m\u001b[0;34m\u001b[0m\u001b[0;34m\u001b[0m\u001b[0m\n\u001b[0;32m----> 6\u001b[0;31m \u001b[0mImage\u001b[0m\u001b[0;34m(\u001b[0m\u001b[0mpn_visualizer\u001b[0m\u001b[0;34m.\u001b[0m\u001b[0mview\u001b[0m\u001b[0;34m(\u001b[0m\u001b[0mgviz\u001b[0m\u001b[0;34m)\u001b[0m\u001b[0;34m)\u001b[0m\u001b[0;34m\u001b[0m\u001b[0;34m\u001b[0m\u001b[0m\n\u001b[0m",
            "\u001b[0;32m/usr/local/lib/python3.7/dist-packages/IPython/core/display.py\u001b[0m in \u001b[0;36m__init__\u001b[0;34m(self, data, url, filename, format, embed, width, height, retina, unconfined, metadata)\u001b[0m\n\u001b[1;32m    979\u001b[0m             \u001b[0mext\u001b[0m \u001b[0;34m=\u001b[0m \u001b[0mself\u001b[0m\u001b[0;34m.\u001b[0m\u001b[0m_find_ext\u001b[0m\u001b[0;34m(\u001b[0m\u001b[0murl\u001b[0m\u001b[0;34m)\u001b[0m\u001b[0;34m\u001b[0m\u001b[0;34m\u001b[0m\u001b[0m\n\u001b[1;32m    980\u001b[0m         \u001b[0;32melif\u001b[0m \u001b[0mdata\u001b[0m \u001b[0;32mis\u001b[0m \u001b[0;32mNone\u001b[0m\u001b[0;34m:\u001b[0m\u001b[0;34m\u001b[0m\u001b[0;34m\u001b[0m\u001b[0m\n\u001b[0;32m--> 981\u001b[0;31m             \u001b[0;32mraise\u001b[0m \u001b[0mValueError\u001b[0m\u001b[0;34m(\u001b[0m\u001b[0;34m\"No image data found. Expecting filename, url, or data.\"\u001b[0m\u001b[0;34m)\u001b[0m\u001b[0;34m\u001b[0m\u001b[0;34m\u001b[0m\u001b[0m\n\u001b[0m\u001b[1;32m    982\u001b[0m         elif isinstance(data, string_types) and (\n\u001b[1;32m    983\u001b[0m             \u001b[0mdata\u001b[0m\u001b[0;34m.\u001b[0m\u001b[0mstartswith\u001b[0m\u001b[0;34m(\u001b[0m\u001b[0;34m'http'\u001b[0m\u001b[0;34m)\u001b[0m \u001b[0;32mor\u001b[0m \u001b[0m_safe_exists\u001b[0m\u001b[0;34m(\u001b[0m\u001b[0mdata\u001b[0m\u001b[0;34m)\u001b[0m\u001b[0;34m\u001b[0m\u001b[0;34m\u001b[0m\u001b[0m\n",
            "\u001b[0;31mValueError\u001b[0m: No image data found. Expecting filename, url, or data."
          ]
        }
      ]
    },
    {
      "cell_type": "code",
      "metadata": {
        "colab": {
          "base_uri": "https://localhost:8080/",
          "height": 881,
          "referenced_widgets": [
            "cdc67fdc12d34035b55157e0ebfe0308",
            "f0d3d9883512495fa23fc668e12013b0",
            "4d6794cd1f2243c78740ba156c4e2940",
            "8d5087756cde4698843c0cade548ec43",
            "a3b3d09322b24bde9177304cfc5f9532",
            "7d31bdbb79f4492ab06de868f6785a54",
            "bc100737d6eb4b8ebdf5d4520516a8b7",
            "a23fc67765ed470fb1a03e152b38d20e",
            "924515c1d6d84f4d8e47384f45281525",
            "51696db15d8642558faeb6e4c646a598",
            "c4b0721daeed426faf927924b68869a1"
          ]
        },
        "id": "HSysb1Dv2dxb",
        "outputId": "a4e7e35b-5f17-4f5c-8cdc-a0b9ed38b302"
      },
      "source": [
        "parameters = {pn_visualizer.Variants.FREQUENCY.value.Parameters.FORMAT: \"png\"}\n",
        "gviz = pn_visualizer.apply(net, initial_marking, final_marking, \n",
        "                           parameters=parameters, \n",
        "                           variant=pn_visualizer.Variants.FREQUENCY, \n",
        "                           log=log)\n",
        "\n",
        "img = pn_visualizer.view(gviz)\n",
        "Image(img)"
      ],
      "execution_count": null,
      "outputs": [
        {
          "output_type": "display_data",
          "data": {
            "application/vnd.jupyter.widget-view+json": {
              "model_id": "cdc67fdc12d34035b55157e0ebfe0308",
              "version_minor": 0,
              "version_major": 2
            },
            "text/plain": [
              "replaying log with TBR, completed variants ::   0%|          | 0/3 [00:00<?, ?it/s]"
            ]
          },
          "metadata": {}
        },
        {
          "output_type": "display_data",
          "data": {
            "image/png": "[encoded data removed]",
            "text/plain": [
              "<IPython.core.display.Image object>"
            ]
          },
          "metadata": {}
        },
        {
          "output_type": "error",
          "ename": "ValueError",
          "evalue": "ignored",
          "traceback": [
            "\u001b[0;31m---------------------------------------------------------------------------\u001b[0m",
            "\u001b[0;31mValueError\u001b[0m                                Traceback (most recent call last)",
            "\u001b[0;32m<ipython-input-49-0eee749613c1>\u001b[0m in \u001b[0;36m<module>\u001b[0;34m()\u001b[0m\n\u001b[1;32m      6\u001b[0m \u001b[0;34m\u001b[0m\u001b[0m\n\u001b[1;32m      7\u001b[0m \u001b[0mimg\u001b[0m \u001b[0;34m=\u001b[0m \u001b[0mpn_visualizer\u001b[0m\u001b[0;34m.\u001b[0m\u001b[0mview\u001b[0m\u001b[0;34m(\u001b[0m\u001b[0mgviz\u001b[0m\u001b[0;34m)\u001b[0m\u001b[0;34m\u001b[0m\u001b[0;34m\u001b[0m\u001b[0m\n\u001b[0;32m----> 8\u001b[0;31m \u001b[0mImage\u001b[0m\u001b[0;34m(\u001b[0m\u001b[0mimg\u001b[0m\u001b[0;34m)\u001b[0m\u001b[0;34m\u001b[0m\u001b[0;34m\u001b[0m\u001b[0m\n\u001b[0m",
            "\u001b[0;32m/usr/local/lib/python3.7/dist-packages/IPython/core/display.py\u001b[0m in \u001b[0;36m__init__\u001b[0;34m(self, data, url, filename, format, embed, width, height, retina, unconfined, metadata)\u001b[0m\n\u001b[1;32m    979\u001b[0m             \u001b[0mext\u001b[0m \u001b[0;34m=\u001b[0m \u001b[0mself\u001b[0m\u001b[0;34m.\u001b[0m\u001b[0m_find_ext\u001b[0m\u001b[0;34m(\u001b[0m\u001b[0murl\u001b[0m\u001b[0;34m)\u001b[0m\u001b[0;34m\u001b[0m\u001b[0;34m\u001b[0m\u001b[0m\n\u001b[1;32m    980\u001b[0m         \u001b[0;32melif\u001b[0m \u001b[0mdata\u001b[0m \u001b[0;32mis\u001b[0m \u001b[0;32mNone\u001b[0m\u001b[0;34m:\u001b[0m\u001b[0;34m\u001b[0m\u001b[0;34m\u001b[0m\u001b[0m\n\u001b[0;32m--> 981\u001b[0;31m             \u001b[0;32mraise\u001b[0m \u001b[0mValueError\u001b[0m\u001b[0;34m(\u001b[0m\u001b[0;34m\"No image data found. Expecting filename, url, or data.\"\u001b[0m\u001b[0;34m)\u001b[0m\u001b[0;34m\u001b[0m\u001b[0;34m\u001b[0m\u001b[0m\n\u001b[0m\u001b[1;32m    982\u001b[0m         elif isinstance(data, string_types) and (\n\u001b[1;32m    983\u001b[0m             \u001b[0mdata\u001b[0m\u001b[0;34m.\u001b[0m\u001b[0mstartswith\u001b[0m\u001b[0;34m(\u001b[0m\u001b[0;34m'http'\u001b[0m\u001b[0;34m)\u001b[0m \u001b[0;32mor\u001b[0m \u001b[0m_safe_exists\u001b[0m\u001b[0;34m(\u001b[0m\u001b[0mdata\u001b[0m\u001b[0;34m)\u001b[0m\u001b[0;34m\u001b[0m\u001b[0;34m\u001b[0m\u001b[0m\n",
            "\u001b[0;31mValueError\u001b[0m: No image data found. Expecting filename, url, or data."
          ]
        }
      ]
    }
  ]
}